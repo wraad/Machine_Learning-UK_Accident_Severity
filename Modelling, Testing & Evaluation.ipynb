{
 "cells": [
  {
   "cell_type": "code",
   "execution_count": 3,
   "id": "6d1895b2",
   "metadata": {},
   "outputs": [],
   "source": [
    "# setting logging to print only error messages\n",
    "import logging\n",
    "logging.basicConfig()\n",
    "logging.getLogger().setLevel(logging.ERROR)\n",
    "\n",
    "import pandas as pd\n",
    "import numpy as np\n",
    "import matplotlib.pyplot as plt \n",
    "from matplotlib.pyplot import figure\n",
    "import seaborn as sns \n",
    "from joblib import dump\n",
    "from joblib import load\n",
    "import time\n",
    "from sklearn.feature_selection import SelectFromModel\n",
    "\n",
    "from sklearn.model_selection import GridSearchCV, RandomizedSearchCV\n",
    "\n",
    "from sklearn.feature_selection import SelectFromModel\n",
    "from sklearn.metrics import precision_recall_fscore_support, plot_confusion_matrix, plot_precision_recall_curve"
   ]
  },
  {
   "cell_type": "markdown",
   "id": "ce915368",
   "metadata": {},
   "source": [
    "# Business Objective"
   ]
  },
  {
   "cell_type": "markdown",
   "id": "3fdfc6c4",
   "metadata": {},
   "source": [
    "Insurance is a risk-management technique used for hedging against various uncertain losses. It involves a contractual agreement between two parties in which one party promises to protect another party from uncertainties and losses.\n",
    "We want to build a model that predicts the severity rating of vehicle accidents in the UK. This would allow the business determine the degree of accident severity per demography and geographical location within the UK and how much premium should be paid.\n",
    "The predictive model will use Accident Severity as the Dependent Variable and Vehicle Type, Engine Capacity, Age of Vehicle as well as the demographic factors of the driver as the Independent Variables."
   ]
  },
  {
   "cell_type": "markdown",
   "id": "e5e87b9c",
   "metadata": {},
   "source": [
    "# Import training and testing set"
   ]
  },
  {
   "cell_type": "code",
   "execution_count": 4,
   "id": "dbe79d24",
   "metadata": {},
   "outputs": [],
   "source": [
    "trainset = pd.read_csv(\"trainset.csv\")\n",
    "\n",
    "testset = pd.read_csv(\"testset.csv\")"
   ]
  },
  {
   "cell_type": "code",
   "execution_count": 5,
   "id": "6bf785aa",
   "metadata": {},
   "outputs": [
    {
     "data": {
      "text/plain": [
       "(80117, 27)"
      ]
     },
     "execution_count": 5,
     "metadata": {},
     "output_type": "execute_result"
    }
   ],
   "source": [
    "trainset.shape"
   ]
  },
  {
   "cell_type": "code",
   "execution_count": 6,
   "id": "79ad9b00",
   "metadata": {},
   "outputs": [
    {
     "data": {
      "text/plain": [
       "(20106, 27)"
      ]
     },
     "execution_count": 6,
     "metadata": {},
     "output_type": "execute_result"
    }
   ],
   "source": [
    "testset.shape"
   ]
  },
  {
   "cell_type": "code",
   "execution_count": 7,
   "id": "b86d5def",
   "metadata": {},
   "outputs": [
    {
     "data": {
      "text/html": [
       "<div>\n",
       "<style scoped>\n",
       "    .dataframe tbody tr th:only-of-type {\n",
       "        vertical-align: middle;\n",
       "    }\n",
       "\n",
       "    .dataframe tbody tr th {\n",
       "        vertical-align: top;\n",
       "    }\n",
       "\n",
       "    .dataframe thead th {\n",
       "        text-align: right;\n",
       "    }\n",
       "</style>\n",
       "<table border=\"1\" class=\"dataframe\">\n",
       "  <thead>\n",
       "    <tr style=\"text-align: right;\">\n",
       "      <th></th>\n",
       "      <th>longitude</th>\n",
       "      <th>latitude</th>\n",
       "      <th>age_of_driver</th>\n",
       "      <th>engine_capacity_cc</th>\n",
       "      <th>age_of_vehicle</th>\n",
       "      <th>others</th>\n",
       "      <th>male</th>\n",
       "      <th>Small town</th>\n",
       "      <th>Urban area</th>\n",
       "      <th>Aug</th>\n",
       "      <th>...</th>\n",
       "      <th>Nov</th>\n",
       "      <th>Oct</th>\n",
       "      <th>Sept</th>\n",
       "      <th>Monday</th>\n",
       "      <th>Saturday</th>\n",
       "      <th>Sunday</th>\n",
       "      <th>Thursday</th>\n",
       "      <th>Tuesday</th>\n",
       "      <th>Wednesday</th>\n",
       "      <th>accident_severity</th>\n",
       "    </tr>\n",
       "  </thead>\n",
       "  <tbody>\n",
       "    <tr>\n",
       "      <th>0</th>\n",
       "      <td>-0.915724</td>\n",
       "      <td>-0.760740</td>\n",
       "      <td>0.699551</td>\n",
       "      <td>0.435414</td>\n",
       "      <td>-0.270062</td>\n",
       "      <td>-0.552275</td>\n",
       "      <td>0.675423</td>\n",
       "      <td>-0.31014</td>\n",
       "      <td>0.497338</td>\n",
       "      <td>-0.325987</td>\n",
       "      <td>...</td>\n",
       "      <td>-0.290249</td>\n",
       "      <td>-0.313825</td>\n",
       "      <td>-0.334356</td>\n",
       "      <td>-0.403737</td>\n",
       "      <td>-0.395673</td>\n",
       "      <td>-0.356298</td>\n",
       "      <td>-0.425856</td>\n",
       "      <td>-0.408305</td>\n",
       "      <td>-0.418838</td>\n",
       "      <td>Slight</td>\n",
       "    </tr>\n",
       "    <tr>\n",
       "      <th>1</th>\n",
       "      <td>0.794882</td>\n",
       "      <td>-0.707889</td>\n",
       "      <td>-1.327203</td>\n",
       "      <td>0.181216</td>\n",
       "      <td>0.962724</td>\n",
       "      <td>-0.552275</td>\n",
       "      <td>-1.480554</td>\n",
       "      <td>-0.31014</td>\n",
       "      <td>0.497338</td>\n",
       "      <td>-0.325987</td>\n",
       "      <td>...</td>\n",
       "      <td>-0.290249</td>\n",
       "      <td>-0.313825</td>\n",
       "      <td>-0.334356</td>\n",
       "      <td>-0.403737</td>\n",
       "      <td>2.527342</td>\n",
       "      <td>-0.356298</td>\n",
       "      <td>-0.425856</td>\n",
       "      <td>-0.408305</td>\n",
       "      <td>-0.418838</td>\n",
       "      <td>Slight</td>\n",
       "    </tr>\n",
       "    <tr>\n",
       "      <th>2</th>\n",
       "      <td>1.703353</td>\n",
       "      <td>-0.163372</td>\n",
       "      <td>0.545255</td>\n",
       "      <td>0.453881</td>\n",
       "      <td>-2.680711</td>\n",
       "      <td>-0.552275</td>\n",
       "      <td>-1.480554</td>\n",
       "      <td>-0.31014</td>\n",
       "      <td>0.497338</td>\n",
       "      <td>-0.325987</td>\n",
       "      <td>...</td>\n",
       "      <td>-0.290249</td>\n",
       "      <td>-0.313825</td>\n",
       "      <td>-0.334356</td>\n",
       "      <td>-0.403737</td>\n",
       "      <td>-0.395673</td>\n",
       "      <td>-0.356298</td>\n",
       "      <td>-0.425856</td>\n",
       "      <td>2.449151</td>\n",
       "      <td>-0.418838</td>\n",
       "      <td>Slight</td>\n",
       "    </tr>\n",
       "    <tr>\n",
       "      <th>3</th>\n",
       "      <td>-0.481895</td>\n",
       "      <td>0.791191</td>\n",
       "      <td>0.205402</td>\n",
       "      <td>0.566439</td>\n",
       "      <td>-0.515359</td>\n",
       "      <td>-0.552275</td>\n",
       "      <td>0.675423</td>\n",
       "      <td>-0.31014</td>\n",
       "      <td>0.497338</td>\n",
       "      <td>-0.325987</td>\n",
       "      <td>...</td>\n",
       "      <td>3.445316</td>\n",
       "      <td>-0.313825</td>\n",
       "      <td>-0.334356</td>\n",
       "      <td>-0.403737</td>\n",
       "      <td>-0.395673</td>\n",
       "      <td>2.806640</td>\n",
       "      <td>-0.425856</td>\n",
       "      <td>-0.408305</td>\n",
       "      <td>-0.418838</td>\n",
       "      <td>Serious</td>\n",
       "    </tr>\n",
       "    <tr>\n",
       "      <th>4</th>\n",
       "      <td>-0.080942</td>\n",
       "      <td>-1.134774</td>\n",
       "      <td>1.780927</td>\n",
       "      <td>0.424199</td>\n",
       "      <td>-2.680711</td>\n",
       "      <td>-0.552275</td>\n",
       "      <td>0.675423</td>\n",
       "      <td>-0.31014</td>\n",
       "      <td>0.497338</td>\n",
       "      <td>-0.325987</td>\n",
       "      <td>...</td>\n",
       "      <td>-0.290249</td>\n",
       "      <td>-0.313825</td>\n",
       "      <td>2.990821</td>\n",
       "      <td>-0.403737</td>\n",
       "      <td>-0.395673</td>\n",
       "      <td>-0.356298</td>\n",
       "      <td>-0.425856</td>\n",
       "      <td>-0.408305</td>\n",
       "      <td>2.387557</td>\n",
       "      <td>Serious</td>\n",
       "    </tr>\n",
       "  </tbody>\n",
       "</table>\n",
       "<p>5 rows × 27 columns</p>\n",
       "</div>"
      ],
      "text/plain": [
       "   longitude  latitude  age_of_driver  engine_capacity_cc  age_of_vehicle  \\\n",
       "0  -0.915724 -0.760740       0.699551            0.435414       -0.270062   \n",
       "1   0.794882 -0.707889      -1.327203            0.181216        0.962724   \n",
       "2   1.703353 -0.163372       0.545255            0.453881       -2.680711   \n",
       "3  -0.481895  0.791191       0.205402            0.566439       -0.515359   \n",
       "4  -0.080942 -1.134774       1.780927            0.424199       -2.680711   \n",
       "\n",
       "     others      male  Small town  Urban area       Aug  ...       Nov  \\\n",
       "0 -0.552275  0.675423    -0.31014    0.497338 -0.325987  ... -0.290249   \n",
       "1 -0.552275 -1.480554    -0.31014    0.497338 -0.325987  ... -0.290249   \n",
       "2 -0.552275 -1.480554    -0.31014    0.497338 -0.325987  ... -0.290249   \n",
       "3 -0.552275  0.675423    -0.31014    0.497338 -0.325987  ...  3.445316   \n",
       "4 -0.552275  0.675423    -0.31014    0.497338 -0.325987  ... -0.290249   \n",
       "\n",
       "        Oct      Sept    Monday  Saturday    Sunday  Thursday   Tuesday  \\\n",
       "0 -0.313825 -0.334356 -0.403737 -0.395673 -0.356298 -0.425856 -0.408305   \n",
       "1 -0.313825 -0.334356 -0.403737  2.527342 -0.356298 -0.425856 -0.408305   \n",
       "2 -0.313825 -0.334356 -0.403737 -0.395673 -0.356298 -0.425856  2.449151   \n",
       "3 -0.313825 -0.334356 -0.403737 -0.395673  2.806640 -0.425856 -0.408305   \n",
       "4 -0.313825  2.990821 -0.403737 -0.395673 -0.356298 -0.425856 -0.408305   \n",
       "\n",
       "   Wednesday  accident_severity  \n",
       "0  -0.418838             Slight  \n",
       "1  -0.418838             Slight  \n",
       "2  -0.418838             Slight  \n",
       "3  -0.418838            Serious  \n",
       "4   2.387557            Serious  \n",
       "\n",
       "[5 rows x 27 columns]"
      ]
     },
     "execution_count": 7,
     "metadata": {},
     "output_type": "execute_result"
    }
   ],
   "source": [
    "# checking first 5 rows for inspection\n",
    "trainset.head()"
   ]
  },
  {
   "cell_type": "code",
   "execution_count": 8,
   "id": "f8bd77fc",
   "metadata": {},
   "outputs": [
    {
     "name": "stdout",
     "output_type": "stream",
     "text": [
      "<class 'pandas.core.frame.DataFrame'>\n",
      "RangeIndex: 80117 entries, 0 to 80116\n",
      "Data columns (total 27 columns):\n",
      " #   Column              Non-Null Count  Dtype  \n",
      "---  ------              --------------  -----  \n",
      " 0   longitude           80117 non-null  float64\n",
      " 1   latitude            80117 non-null  float64\n",
      " 2   age_of_driver       80117 non-null  float64\n",
      " 3   engine_capacity_cc  80117 non-null  float64\n",
      " 4   age_of_vehicle      80117 non-null  float64\n",
      " 5   others              80117 non-null  float64\n",
      " 6   male                80117 non-null  float64\n",
      " 7   Small town          80117 non-null  float64\n",
      " 8   Urban area          80117 non-null  float64\n",
      " 9   Aug                 80117 non-null  float64\n",
      " 10  Dec                 80117 non-null  float64\n",
      " 11  Feb                 80117 non-null  float64\n",
      " 12  Jan                 80117 non-null  float64\n",
      " 13  July                80117 non-null  float64\n",
      " 14  June                80117 non-null  float64\n",
      " 15  Mar                 80117 non-null  float64\n",
      " 16  May                 80117 non-null  float64\n",
      " 17  Nov                 80117 non-null  float64\n",
      " 18  Oct                 80117 non-null  float64\n",
      " 19  Sept                80117 non-null  float64\n",
      " 20  Monday              80117 non-null  float64\n",
      " 21  Saturday            80117 non-null  float64\n",
      " 22  Sunday              80117 non-null  float64\n",
      " 23  Thursday            80117 non-null  float64\n",
      " 24  Tuesday             80117 non-null  float64\n",
      " 25  Wednesday           80117 non-null  float64\n",
      " 26  accident_severity   80117 non-null  object \n",
      "dtypes: float64(26), object(1)\n",
      "memory usage: 16.5+ MB\n"
     ]
    }
   ],
   "source": [
    "#checking all variables are avaible and no missing values\n",
    "trainset.info()"
   ]
  },
  {
   "cell_type": "code",
   "execution_count": 9,
   "id": "279f123d",
   "metadata": {},
   "outputs": [
    {
     "name": "stdout",
     "output_type": "stream",
     "text": [
      "<class 'pandas.core.frame.DataFrame'>\n",
      "RangeIndex: 20106 entries, 0 to 20105\n",
      "Data columns (total 27 columns):\n",
      " #   Column              Non-Null Count  Dtype  \n",
      "---  ------              --------------  -----  \n",
      " 0   longitude           20106 non-null  float64\n",
      " 1   latitude            20106 non-null  float64\n",
      " 2   age_of_driver       20106 non-null  float64\n",
      " 3   engine_capacity_cc  20106 non-null  float64\n",
      " 4   age_of_vehicle      20106 non-null  float64\n",
      " 5   others              20106 non-null  float64\n",
      " 6   male                20106 non-null  float64\n",
      " 7   Small town          20106 non-null  float64\n",
      " 8   Urban area          20106 non-null  float64\n",
      " 9   Aug                 20106 non-null  float64\n",
      " 10  Dec                 20106 non-null  float64\n",
      " 11  Feb                 20106 non-null  float64\n",
      " 12  Jan                 20106 non-null  float64\n",
      " 13  July                20106 non-null  float64\n",
      " 14  June                20106 non-null  float64\n",
      " 15  Mar                 20106 non-null  float64\n",
      " 16  May                 20106 non-null  float64\n",
      " 17  Nov                 20106 non-null  float64\n",
      " 18  Oct                 20106 non-null  float64\n",
      " 19  Sept                20106 non-null  float64\n",
      " 20  Monday              20106 non-null  float64\n",
      " 21  Saturday            20106 non-null  float64\n",
      " 22  Sunday              20106 non-null  float64\n",
      " 23  Thursday            20106 non-null  float64\n",
      " 24  Tuesday             20106 non-null  float64\n",
      " 25  Wednesday           20106 non-null  float64\n",
      " 26  accident_severity   20106 non-null  object \n",
      "dtypes: float64(26), object(1)\n",
      "memory usage: 4.1+ MB\n"
     ]
    }
   ],
   "source": [
    "testset.info()"
   ]
  },
  {
   "cell_type": "markdown",
   "id": "b8310db8",
   "metadata": {},
   "source": [
    "Before we begin building our models we need to split our train and test sets into predictors(x's) and traget(y) variables."
   ]
  },
  {
   "cell_type": "code",
   "execution_count": 10,
   "id": "518de361",
   "metadata": {},
   "outputs": [],
   "source": [
    "# drop accident severity for X-training set, but keep all others\n",
    "Xtrain = trainset.drop(\"accident_severity\", axis=1)\n",
    "ytrain = trainset[\"accident_severity\"].copy()\n",
    "\n",
    "# drop accidenent severity for X-testing set, but keep all others\n",
    "Xtest = testset.drop(\"accident_severity\", axis=1)\n",
    "ytest = testset[\"accident_severity\"].copy()"
   ]
  },
  {
   "cell_type": "markdown",
   "id": "bbc96a80",
   "metadata": {},
   "source": [
    "# Feature selection"
   ]
  },
  {
   "cell_type": "markdown",
   "id": "54800ed9",
   "metadata": {},
   "source": [
    "Since we have 26 predictors, it would be a good idea to extract the important features and exclude the least important ones. This way our models will get simplified and can understand better the most associate ones and get better results. \n",
    "I will use random forest classifier which is an embedded method and it works in finding which predictors are most signigicant in predicting the target varibale accurately.  "
   ]
  },
  {
   "cell_type": "code",
   "execution_count": 11,
   "id": "00935520",
   "metadata": {},
   "outputs": [
    {
     "name": "stdout",
     "output_type": "stream",
     "text": [
      "Took 70.01977133750916 seconds\n"
     ]
    }
   ],
   "source": [
    "#Since our target is not balanced i am assigning the class_weight parameter to blanced which will assign weights to \n",
    "#the classes in order to make them balanced\n",
    "from sklearn.ensemble import RandomForestClassifier\n",
    "rf = RandomForestClassifier(class_weight=\"balanced\")\n",
    "\n",
    "param_grid = {\n",
    "        'n_estimators': [10,100,200],\n",
    "        'max_depth': [3, 5, 15]\n",
    "}\n",
    "\n",
    "\n",
    "# we'll use 5-fold cross-validation\n",
    "grid_search = GridSearchCV(rf, param_grid, cv=5, \n",
    "                              scoring='accuracy',return_train_score=True, n_jobs=-1)\n",
    "\n",
    "start = time.time()\n",
    "grid_search.fit(Xtrain, ytrain)\n",
    "end = time.time() - start\n",
    "print(f\"Took {end} seconds\")"
   ]
  },
  {
   "cell_type": "code",
   "execution_count": 12,
   "id": "19c9bde7",
   "metadata": {},
   "outputs": [
    {
     "data": {
      "text/plain": [
       "RandomForestClassifier(class_weight='balanced', max_depth=15, n_estimators=200)"
      ]
     },
     "execution_count": 12,
     "metadata": {},
     "output_type": "execute_result"
    }
   ],
   "source": [
    "#Best estimators from the grid search \n",
    "grid_search.best_estimator_"
   ]
  },
  {
   "cell_type": "code",
   "execution_count": 13,
   "id": "6988e79c",
   "metadata": {},
   "outputs": [
    {
     "data": {
      "text/plain": [
       "0.764856410073774"
      ]
     },
     "execution_count": 13,
     "metadata": {},
     "output_type": "execute_result"
    }
   ],
   "source": [
    "#check the average accuracy over the five k-fold \n",
    "grid_search.best_score_"
   ]
  },
  {
   "cell_type": "markdown",
   "id": "0281b707",
   "metadata": {},
   "source": [
    "The best tuned model from the given parameter acheived an accuracy score of ***76.48%***"
   ]
  },
  {
   "cell_type": "code",
   "execution_count": 14,
   "id": "3fce94fc",
   "metadata": {},
   "outputs": [
    {
     "name": "stdout",
     "output_type": "stream",
     "text": [
      "latitude: 0.18065876267303543\n",
      "longitude: 0.17082648116201668\n",
      "engine_capacity_cc: 0.1506186200995754\n",
      "age_of_driver: 0.12810564602565944\n",
      "age_of_vehicle: 0.10239870783881648\n",
      "Urban area: 0.022593926540512933\n",
      "male: 0.021206219070971106\n",
      "others: 0.02035016065798285\n",
      "Saturday: 0.013815921493145781\n",
      "Thursday: 0.013450942844872306\n",
      "Wednesday: 0.013369004906142871\n",
      "Tuesday: 0.013321059722591587\n",
      "Sunday: 0.013142748667712282\n",
      "Monday: 0.013033077153904471\n",
      "Aug: 0.011704088429706305\n",
      "Jan: 0.011520279972176256\n",
      "Feb: 0.011351876188712235\n",
      "July: 0.011205866103736932\n",
      "Oct: 0.010603212877708228\n",
      "Sept: 0.010485964725361317\n",
      "Small town: 0.009946471673170965\n",
      "Mar: 0.009781369739866326\n",
      "Dec: 0.009440039981519344\n",
      "June: 0.00929797379954781\n",
      "Nov: 0.00905875467935252\n",
      "May: 0.0087128229722022\n"
     ]
    }
   ],
   "source": [
    "# put them into a separate variable for convenience\n",
    "feature_importances = grid_search.best_estimator_.feature_importances_\n",
    "\n",
    "# the order of the features in `feature_importances` is the same as in the Xtrain dataframe,\n",
    "# so we can \"zip\" the two and print in the descending order:\n",
    "\n",
    "for k, v in sorted(zip(feature_importances, Xtrain.columns), reverse=True):\n",
    "    print(f\"{v}: {k}\")"
   ]
  },
  {
   "cell_type": "markdown",
   "id": "aa62d207",
   "metadata": {},
   "source": [
    "After using the feature_importance_ attribue to extract the feature importance, we can see that latitude, longitude, engine_capacity_cc,age_of_driver, Urban area are most predictores that contributed in predicting the target variable accurately.\n",
    "The rest have very little contribution."
   ]
  },
  {
   "cell_type": "code",
   "execution_count": 15,
   "id": "fdfca3b1",
   "metadata": {},
   "outputs": [
    {
     "data": {
      "text/plain": [
       "<AxesSubplot:xlabel='Features', ylabel='Importances'>"
      ]
     },
     "execution_count": 15,
     "metadata": {},
     "output_type": "execute_result"
    },
    {
     "data": {
      "image/png": "[encoded data removed]",
      "text/plain": [
       "<Figure size 1440x720 with 1 Axes>"
      ]
     },
     "metadata": {
      "needs_background": "light"
     },
     "output_type": "display_data"
    }
   ],
   "source": [
    "# Vizualising feature importance on a bar graph\n",
    "df = pd.DataFrame({\"Features\": Xtrain.columns, \"Importances\":feature_importances})\n",
    "df.set_index('Importances')\n",
    "\n",
    "# sort in ascending order to better visualization.\n",
    "df = df.sort_values('Importances')\n",
    "\n",
    "# plot the feature importances in bars.\n",
    "plt.figure(figsize=(20,10))\n",
    "plt.xticks(rotation=45)\n",
    "sns.barplot(x=\"Features\",y= \"Importances\", data=df)"
   ]
  },
  {
   "cell_type": "markdown",
   "id": "7db0ad4b",
   "metadata": {},
   "source": [
    "I will extract the top 10 important predictors and and leave the others. This way way the moodel can perform better and compute faster"
   ]
  },
  {
   "cell_type": "code",
   "execution_count": 17,
   "id": "9b3512c1",
   "metadata": {},
   "outputs": [],
   "source": [
    "#selecting the top 10 features\n",
    "Xtrain=Xtrain[[\"latitude\",\"longitude\",\"engine_capacity_cc\",\"age_of_driver\",\"age_of_vehicle\",\"Urban area\",\"male\",\"others\",\n",
    "               \"Saturday\",\"Thursday\"]]"
   ]
  },
  {
   "cell_type": "code",
   "execution_count": 18,
   "id": "bae1e579",
   "metadata": {},
   "outputs": [],
   "source": [
    "#applying it to testing set as well\n",
    "Xtest=Xtest[Xtrain.columns]"
   ]
  },
  {
   "cell_type": "code",
   "execution_count": 19,
   "id": "255a45b3",
   "metadata": {},
   "outputs": [
    {
     "data": {
      "text/plain": [
       "(20106, 10)"
      ]
     },
     "execution_count": 19,
     "metadata": {},
     "output_type": "execute_result"
    }
   ],
   "source": [
    "#checking the 10 variables were extracted\n",
    "Xtest.shape"
   ]
  },
  {
   "cell_type": "code",
   "execution_count": 20,
   "id": "acb03f20",
   "metadata": {},
   "outputs": [
    {
     "data": {
      "text/plain": [
       "(80117, 10)"
      ]
     },
     "execution_count": 20,
     "metadata": {},
     "output_type": "execute_result"
    }
   ],
   "source": [
    "Xtrain.shape"
   ]
  },
  {
   "cell_type": "markdown",
   "id": "f6df7c50",
   "metadata": {},
   "source": [
    "# Baseline"
   ]
  },
  {
   "cell_type": "markdown",
   "id": "e6baa5e6",
   "metadata": {},
   "source": [
    "We'll use a majority class classifier as a baseline, i.e., we will find out what is the most common class label in the training set and always output it as a prediction"
   ]
  },
  {
   "cell_type": "code",
   "execution_count": 19,
   "id": "06b98a9f",
   "metadata": {},
   "outputs": [
    {
     "data": {
      "text/plain": [
       "Slight     63476\n",
       "Serious    15329\n",
       "Fatal       1312\n",
       "Name: accident_severity, dtype: int64"
      ]
     },
     "execution_count": 19,
     "metadata": {},
     "output_type": "execute_result"
    }
   ],
   "source": [
    "# the number of instances belonging to each class\n",
    "ytrain.value_counts()"
   ]
  },
  {
   "cell_type": "code",
   "execution_count": 20,
   "id": "95670474",
   "metadata": {},
   "outputs": [
    {
     "data": {
      "text/plain": [
       "80117"
      ]
     },
     "execution_count": 20,
     "metadata": {},
     "output_type": "execute_result"
    }
   ],
   "source": [
    "# total size of the training set\n",
    "ytrain.shape[0]"
   ]
  },
  {
   "cell_type": "markdown",
   "id": "486a62b2",
   "metadata": {},
   "source": [
    "The baseline classifier will output \"Slight\" for all predictions. We will use macro-averaging in this project (precision, recall and F-score are evaluated in each class separately and then averaged across classes).\n",
    "\n",
    "So if we apply the baseline classifier to all of the training set. \n",
    "\n",
    "For the \"Slight\" label, the accuracy measures will be:\n",
    "\n",
    "* Precision: 63476/80117 = 0.792\n",
    "\n",
    "* Recall: 63476/63476 = 1.0\n",
    "\n",
    "* F-score: 2/(1/0.792 + 1/1.0) = 0.887\n",
    "\n",
    "For the \"Serious\" label, it will be:\n",
    "\n",
    "* Precision: 0.0/0.0 = 0.0\n",
    "\n",
    "* Recall: 0.0/15329 = 0.0\n",
    "\n",
    "* F-score: 0.0\n",
    "\n",
    "For the \"Fatal\" label, it will be:\n",
    "\n",
    "* Precision: 0.0/0.0 = 0.0\n",
    "\n",
    "* Recall: 0.0/1312 = 0.0\n",
    "\n",
    "* F-score: 0.0\n",
    "\n",
    "The averages of the three classes, i.e. the eventual baseline scores:\n",
    "\n",
    "* **Precision: 0.264**\n",
    "\n",
    "* **Recall: 0.333**\n",
    "\n",
    "* **F-score: 0.296**"
   ]
  },
  {
   "cell_type": "markdown",
   "id": "6ac50317",
   "metadata": {},
   "source": [
    "# Hyperparameter Tuning and Modeling"
   ]
  },
  {
   "cell_type": "markdown",
   "id": "014ccc9c",
   "metadata": {},
   "source": [
    "We are now going to tune hyperparameters for different models on the training set, to get the best possible model to use on the testing set. However, due to the size o the data set and the computational power available to me, i have chosen the following methods to get the best following models while reducing computational power:\n",
    "* Logistic Regression (used weights to balance my data)\n",
    "* Decision Tree (used weights to balance my data)\n",
    "* Decision Tree Oversampling\n",
    "* Logistic Regression Oversampling\n",
    "* XGBoost Classifier\n",
    "* Random forest (used weights to balance my data)\n",
    "* Random forest (oversampling)"
   ]
  },
  {
   "cell_type": "markdown",
   "id": "c990ddd5",
   "metadata": {},
   "source": [
    "## Logistic Regression using weight balance"
   ]
  },
  {
   "cell_type": "markdown",
   "id": "a4150878",
   "metadata": {},
   "source": [
    "In imblanced traget variables algorithms tend to disregard  minority classes and focuse on the dominant one. In order to avoid this we are going to apply weights to our classes in order to balances our target variable."
   ]
  },
  {
   "cell_type": "code",
   "execution_count": 155,
   "id": "04269d94",
   "metadata": {},
   "outputs": [
    {
     "name": "stdout",
     "output_type": "stream",
     "text": [
      "Took 6.896375894546509 seconds\n"
     ]
    }
   ],
   "source": [
    "# define models and parameter and applying weights to our classes by assigning \n",
    "#class_weight=\"balanced\" to balances it out. \n",
    "from sklearn.linear_model import LogisticRegression\n",
    "lr = LogisticRegression(class_weight=\"balanced\",multi_class='multinomial')\n",
    "penalty = ['l2']\n",
    "c_values = [100, 10, 1.0, 0.1, 0.01]\n",
    "\n",
    "# define grid search\n",
    "grid = dict(penalty=penalty,C=c_values)\n",
    "grid_search_lr = GridSearchCV(estimator=lr, param_grid=grid, n_jobs=-1, \n",
    "                           cv=5, scoring='f1_macro',error_score=0,return_train_score=True)\n",
    "start = time.time()\n",
    "#Fit the mode\n",
    "grid_search_lr.fit(Xtrain, ytrain)\n",
    "end = time.time() - start\n",
    "print(f\"Took {end} seconds\")"
   ]
  },
  {
   "cell_type": "code",
   "execution_count": 156,
   "id": "0380b1a4",
   "metadata": {},
   "outputs": [
    {
     "data": {
      "text/plain": [
       "{'C': 0.1, 'penalty': 'l2'}"
      ]
     },
     "execution_count": 156,
     "metadata": {},
     "output_type": "execute_result"
    }
   ],
   "source": [
    "grid_search_lr.best_params_"
   ]
  },
  {
   "cell_type": "code",
   "execution_count": 157,
   "id": "f2de3a50",
   "metadata": {},
   "outputs": [
    {
     "data": {
      "text/plain": [
       "0.3110816331973612"
      ]
     },
     "execution_count": 157,
     "metadata": {},
     "output_type": "execute_result"
    }
   ],
   "source": [
    "grid_search_lr.best_score_"
   ]
  },
  {
   "cell_type": "markdown",
   "id": "7dc952f7",
   "metadata": {},
   "source": [
    "The best tuned model proved to be C=0.1 and it achievd an F-score of **31.1%** which is an improvement of the baseline. However, its not high enough to be used for a model"
   ]
  },
  {
   "cell_type": "code",
   "execution_count": 158,
   "id": "4185b542",
   "metadata": {},
   "outputs": [
    {
     "data": {
      "text/plain": [
       "3"
      ]
     },
     "execution_count": 158,
     "metadata": {},
     "output_type": "execute_result"
    }
   ],
   "source": [
    "best_model_index = grid_search_lr.cv_results_[\"rank_test_score\"].tolist().index(1)\n",
    "best_model_index"
   ]
  },
  {
   "cell_type": "code",
   "execution_count": 159,
   "id": "dad10b1d",
   "metadata": {},
   "outputs": [],
   "source": [
    "log_split_test_scores = []\n",
    "for x in range(5):\n",
    "    # extract f-score of the best model (index='best_model_index') from each of the 5 splits\n",
    "    val = grid_search_lr.cv_results_[f\"split{x}_test_score\"][best_model_index]\n",
    "    log_split_test_scores.append(val)"
   ]
  },
  {
   "cell_type": "markdown",
   "id": "f2b0c940",
   "metadata": {},
   "source": [
    "We can see the difference between train and test mean score is too low, which show no over fitting has osccured in the model"
   ]
  },
  {
   "cell_type": "code",
   "execution_count": 160,
   "id": "e6249662",
   "metadata": {},
   "outputs": [
    {
     "data": {
      "text/html": [
       "<div>\n",
       "<style scoped>\n",
       "    .dataframe tbody tr th:only-of-type {\n",
       "        vertical-align: middle;\n",
       "    }\n",
       "\n",
       "    .dataframe tbody tr th {\n",
       "        vertical-align: top;\n",
       "    }\n",
       "\n",
       "    .dataframe thead th {\n",
       "        text-align: right;\n",
       "    }\n",
       "</style>\n",
       "<table border=\"1\" class=\"dataframe\">\n",
       "  <thead>\n",
       "    <tr style=\"text-align: right;\">\n",
       "      <th></th>\n",
       "      <th>params</th>\n",
       "      <th>mean_train_score</th>\n",
       "      <th>mean_test_score</th>\n",
       "      <th>diff, %</th>\n",
       "    </tr>\n",
       "  </thead>\n",
       "  <tbody>\n",
       "    <tr>\n",
       "      <th>3</th>\n",
       "      <td>{'C': 0.1, 'penalty': 'l2'}</td>\n",
       "      <td>0.311396</td>\n",
       "      <td>0.311082</td>\n",
       "      <td>0.100854</td>\n",
       "    </tr>\n",
       "    <tr>\n",
       "      <th>1</th>\n",
       "      <td>{'C': 10, 'penalty': 'l2'}</td>\n",
       "      <td>0.311406</td>\n",
       "      <td>0.311068</td>\n",
       "      <td>0.108563</td>\n",
       "    </tr>\n",
       "    <tr>\n",
       "      <th>2</th>\n",
       "      <td>{'C': 1.0, 'penalty': 'l2'}</td>\n",
       "      <td>0.311395</td>\n",
       "      <td>0.311068</td>\n",
       "      <td>0.104816</td>\n",
       "    </tr>\n",
       "    <tr>\n",
       "      <th>0</th>\n",
       "      <td>{'C': 100, 'penalty': 'l2'}</td>\n",
       "      <td>0.311406</td>\n",
       "      <td>0.311060</td>\n",
       "      <td>0.111297</td>\n",
       "    </tr>\n",
       "    <tr>\n",
       "      <th>4</th>\n",
       "      <td>{'C': 0.01, 'penalty': 'l2'}</td>\n",
       "      <td>0.311350</td>\n",
       "      <td>0.311043</td>\n",
       "      <td>0.098696</td>\n",
       "    </tr>\n",
       "  </tbody>\n",
       "</table>\n",
       "</div>"
      ],
      "text/plain": [
       "                         params  mean_train_score  mean_test_score   diff, %\n",
       "3   {'C': 0.1, 'penalty': 'l2'}          0.311396         0.311082  0.100854\n",
       "1    {'C': 10, 'penalty': 'l2'}          0.311406         0.311068  0.108563\n",
       "2   {'C': 1.0, 'penalty': 'l2'}          0.311395         0.311068  0.104816\n",
       "0   {'C': 100, 'penalty': 'l2'}          0.311406         0.311060  0.111297\n",
       "4  {'C': 0.01, 'penalty': 'l2'}          0.311350         0.311043  0.098696"
      ]
     },
     "execution_count": 160,
     "metadata": {},
     "output_type": "execute_result"
    }
   ],
   "source": [
    "cv_results = pd.DataFrame(grid_search_lr.cv_results_)[['params', 'mean_train_score', 'mean_test_score']]\n",
    "cv_results[\"diff, %\"] = 100*(cv_results[\"mean_train_score\"]-cv_results[\"mean_test_score\"]\n",
    "                                                     )/cv_results[\"mean_train_score\"]\n",
    "\n",
    "pd.set_option('display.max_colwidth', 100)\n",
    "cv_results.sort_values('mean_test_score', ascending=False)"
   ]
  },
  {
   "cell_type": "code",
   "execution_count": 161,
   "id": "c216c037",
   "metadata": {},
   "outputs": [
    {
     "data": {
      "text/plain": [
       "['models/lr.joblib']"
      ]
     },
     "execution_count": 161,
     "metadata": {},
     "output_type": "execute_result"
    }
   ],
   "source": [
    "#saving the model\n",
    "dump(grid_search_lr.best_estimator_, 'models/lr.joblib')"
   ]
  },
  {
   "cell_type": "markdown",
   "id": "331c9e13",
   "metadata": {},
   "source": [
    "## Logistic regression oversampling"
   ]
  },
  {
   "cell_type": "markdown",
   "id": "eaffd3b5",
   "metadata": {},
   "source": [
    "Instead of assigning weights to the classes to balance it, we are going to use another balancing method called oversampling. what it does is it increases the number of sampling in the minority classes to match up with number of classes in the majority class "
   ]
  },
  {
   "cell_type": "code",
   "execution_count": 113,
   "id": "cded72ad",
   "metadata": {},
   "outputs": [
    {
     "data": {
      "text/plain": [
       "{'Fatal': 1312, 'Serious': 15329, 'Slight': 63476}"
      ]
     },
     "execution_count": 113,
     "metadata": {},
     "output_type": "execute_result"
    }
   ],
   "source": [
    "from collections import Counter\n",
    "from sklearn.datasets import make_classification\n",
    "from imblearn.over_sampling import RandomOverSampler\n",
    "#checking initially number of records in each class\n",
    "unique, count= np.unique(ytrain,return_counts=True)\n",
    "ytrain_dict_value_count={k:v for (k,v) in zip(unique, count)}\n",
    "ytrain_dict_value_count"
   ]
  },
  {
   "cell_type": "code",
   "execution_count": 115,
   "id": "14eb0bad",
   "metadata": {},
   "outputs": [
    {
     "name": "stdout",
     "output_type": "stream",
     "text": [
      "Counter({'Slight': 63476, 'Serious': 63476, 'Fatal': 63476})\n"
     ]
    }
   ],
   "source": [
    "# define oversampling strategy\n",
    "over = RandomOverSampler(sampling_strategy={'Slight':63476, 'Serious':63476, 'Fatal':63476})\n",
    "# fit and apply the transform\n",
    "Xtrain_oslr, ytrain_oslr = over.fit_resample(Xtrain, ytrain)\n",
    "#  check new class distribution\n",
    "print(Counter(ytrain_oslr))"
   ]
  },
  {
   "cell_type": "code",
   "execution_count": 118,
   "id": "67339a42",
   "metadata": {},
   "outputs": [
    {
     "name": "stdout",
     "output_type": "stream",
     "text": [
      "Took 29.196069478988647 seconds\n"
     ]
    }
   ],
   "source": [
    "from sklearn.linear_model import LogisticRegression\n",
    "lr_os = LogisticRegression(multi_class='multinomial')\n",
    "penalty = ['l2']\n",
    "c_values = [100, 10, 1.0, 0.1, 0.01]\n",
    "\n",
    "# define grid search\n",
    "grid = dict(penalty=penalty,C=c_values)\n",
    "grid_search_oslr = GridSearchCV(estimator=lr_os, param_grid=grid, n_jobs=-1, \n",
    "                           cv=5, scoring='f1_macro',error_score=0,return_train_score=True)\n",
    "start = time.time()\n",
    "#Fit the mode\n",
    "grid_search_oslr.fit(Xtrain_oslr, ytrain_oslr)\n",
    "end = time.time() - start\n",
    "print(f\"Took {end} seconds\")"
   ]
  },
  {
   "cell_type": "code",
   "execution_count": 121,
   "id": "3df0d5e5",
   "metadata": {},
   "outputs": [
    {
     "data": {
      "text/plain": [
       "{'C': 0.01, 'penalty': 'l2'}"
      ]
     },
     "execution_count": 121,
     "metadata": {},
     "output_type": "execute_result"
    }
   ],
   "source": [
    "grid_search_oslr.best_params_"
   ]
  },
  {
   "cell_type": "code",
   "execution_count": 122,
   "id": "63cf5249",
   "metadata": {},
   "outputs": [
    {
     "data": {
      "text/plain": [
       "0.40974117345184957"
      ]
     },
     "execution_count": 122,
     "metadata": {},
     "output_type": "execute_result"
    }
   ],
   "source": [
    "grid_search_oslr.best_score_"
   ]
  },
  {
   "cell_type": "markdown",
   "id": "5bb830d8",
   "metadata": {},
   "source": [
    "The best tuned model proved to be C=0.01 and it achievd an F-score of **40.97%** which is nearly 10% improvement from previous method."
   ]
  },
  {
   "cell_type": "code",
   "execution_count": 123,
   "id": "7847fa6f",
   "metadata": {},
   "outputs": [
    {
     "data": {
      "text/html": [
       "<div>\n",
       "<style scoped>\n",
       "    .dataframe tbody tr th:only-of-type {\n",
       "        vertical-align: middle;\n",
       "    }\n",
       "\n",
       "    .dataframe tbody tr th {\n",
       "        vertical-align: top;\n",
       "    }\n",
       "\n",
       "    .dataframe thead th {\n",
       "        text-align: right;\n",
       "    }\n",
       "</style>\n",
       "<table border=\"1\" class=\"dataframe\">\n",
       "  <thead>\n",
       "    <tr style=\"text-align: right;\">\n",
       "      <th></th>\n",
       "      <th>params</th>\n",
       "      <th>mean_train_score</th>\n",
       "      <th>mean_test_score</th>\n",
       "      <th>diff, %</th>\n",
       "    </tr>\n",
       "  </thead>\n",
       "  <tbody>\n",
       "    <tr>\n",
       "      <th>4</th>\n",
       "      <td>{'C': 0.01, 'penalty': 'l2'}</td>\n",
       "      <td>0.409956</td>\n",
       "      <td>0.409741</td>\n",
       "      <td>0.052282</td>\n",
       "    </tr>\n",
       "    <tr>\n",
       "      <th>3</th>\n",
       "      <td>{'C': 0.1, 'penalty': 'l2'}</td>\n",
       "      <td>0.409999</td>\n",
       "      <td>0.409717</td>\n",
       "      <td>0.068715</td>\n",
       "    </tr>\n",
       "    <tr>\n",
       "      <th>0</th>\n",
       "      <td>{'C': 100, 'penalty': 'l2'}</td>\n",
       "      <td>0.409909</td>\n",
       "      <td>0.409574</td>\n",
       "      <td>0.081862</td>\n",
       "    </tr>\n",
       "    <tr>\n",
       "      <th>1</th>\n",
       "      <td>{'C': 10, 'penalty': 'l2'}</td>\n",
       "      <td>0.409909</td>\n",
       "      <td>0.409574</td>\n",
       "      <td>0.081862</td>\n",
       "    </tr>\n",
       "    <tr>\n",
       "      <th>2</th>\n",
       "      <td>{'C': 1.0, 'penalty': 'l2'}</td>\n",
       "      <td>0.409910</td>\n",
       "      <td>0.409574</td>\n",
       "      <td>0.082125</td>\n",
       "    </tr>\n",
       "  </tbody>\n",
       "</table>\n",
       "</div>"
      ],
      "text/plain": [
       "                         params  mean_train_score  mean_test_score   diff, %\n",
       "4  {'C': 0.01, 'penalty': 'l2'}          0.409956         0.409741  0.052282\n",
       "3   {'C': 0.1, 'penalty': 'l2'}          0.409999         0.409717  0.068715\n",
       "0   {'C': 100, 'penalty': 'l2'}          0.409909         0.409574  0.081862\n",
       "1    {'C': 10, 'penalty': 'l2'}          0.409909         0.409574  0.081862\n",
       "2   {'C': 1.0, 'penalty': 'l2'}          0.409910         0.409574  0.082125"
      ]
     },
     "execution_count": 123,
     "metadata": {},
     "output_type": "execute_result"
    }
   ],
   "source": [
    "cv_results = pd.DataFrame(grid_search_oslr.cv_results_)[['params', 'mean_train_score', 'mean_test_score']]\n",
    "cv_results[\"diff, %\"] = 100*(cv_results[\"mean_train_score\"]-cv_results[\"mean_test_score\"]\n",
    "                                                     )/cv_results[\"mean_train_score\"]\n",
    "\n",
    "pd.set_option('display.max_colwidth', 100)\n",
    "cv_results.sort_values('mean_test_score', ascending=False)"
   ]
  },
  {
   "cell_type": "code",
   "execution_count": 138,
   "id": "c71336c3",
   "metadata": {},
   "outputs": [
    {
     "data": {
      "text/plain": [
       "['models/lros.joblib']"
      ]
     },
     "execution_count": 138,
     "metadata": {},
     "output_type": "execute_result"
    }
   ],
   "source": [
    "#saving the model\n",
    "dump(grid_search_oslr.best_estimator_, 'models/lros.joblib')"
   ]
  },
  {
   "cell_type": "markdown",
   "id": "03e79159",
   "metadata": {},
   "source": [
    "## Decision Tree using weight balance"
   ]
  },
  {
   "cell_type": "code",
   "execution_count": 163,
   "id": "b07d8fac",
   "metadata": {},
   "outputs": [
    {
     "name": "stdout",
     "output_type": "stream",
     "text": [
      "Took 15.150352478027344 seconds\n"
     ]
    }
   ],
   "source": [
    "from sklearn.tree import DecisionTreeClassifier\n",
    "# define models and parameter and applying weights to our classes by assigning class_weight=\"balanced\"\n",
    "dt = DecisionTreeClassifier(class_weight=\"balanced\",random_state=7)\n",
    "criterion = ['gini',\"entropy\"]\n",
    "max_depth = [10,50,100]\n",
    "max_features=[\"auto\",\"sqrt\",None]\n",
    "# define grid search\n",
    "grid = dict(criterion=criterion,max_depth=max_depth,max_features=max_features)\n",
    "grid_search_dt = GridSearchCV(estimator=dt, param_grid=grid, n_jobs=-1, cv=5, scoring='f1_macro',\n",
    "                              error_score=0,return_train_score=True)\n",
    "start = time.time()\n",
    "grid_search_dt.fit(Xtrain, ytrain)\n",
    "#Fit the model \n",
    "\n",
    "end = time.time() - start\n",
    "print(f\"Took {end} seconds\")"
   ]
  },
  {
   "cell_type": "code",
   "execution_count": 164,
   "id": "ebced86e",
   "metadata": {},
   "outputs": [
    {
     "data": {
      "text/plain": [
       "DecisionTreeClassifier(class_weight='balanced', max_depth=50, random_state=7)"
      ]
     },
     "execution_count": 164,
     "metadata": {},
     "output_type": "execute_result"
    }
   ],
   "source": [
    "grid_search_dt.best_estimator_"
   ]
  },
  {
   "cell_type": "code",
   "execution_count": 165,
   "id": "d27e52d7",
   "metadata": {},
   "outputs": [
    {
     "data": {
      "text/plain": [
       "0.3638780120012578"
      ]
     },
     "execution_count": 165,
     "metadata": {},
     "output_type": "execute_result"
    }
   ],
   "source": [
    "grid_search_dt.best_score_"
   ]
  },
  {
   "cell_type": "markdown",
   "id": "854cfd3d",
   "metadata": {},
   "source": [
    "The best tuned model the grid search got is max_depth=50 and it achievd an F-score of **36.38%** which is a slight decrease in improvment from logistic regression using oversampling method"
   ]
  },
  {
   "cell_type": "code",
   "execution_count": 166,
   "id": "82d0091f",
   "metadata": {},
   "outputs": [
    {
     "data": {
      "text/plain": [
       "5"
      ]
     },
     "execution_count": 166,
     "metadata": {},
     "output_type": "execute_result"
    }
   ],
   "source": [
    "#extracting index number for the best achieved model\n",
    "best_model_index = grid_search_dt.cv_results_[\"rank_test_score\"].tolist().index(1)\n",
    "best_model_index"
   ]
  },
  {
   "cell_type": "code",
   "execution_count": 167,
   "id": "fc6a757b",
   "metadata": {},
   "outputs": [],
   "source": [
    "dt_split_test_scores = []\n",
    "for x in range(5):\n",
    "    # extract f-score of the best model (index='best_model_index') from each of the 5 splits\n",
    "    val = grid_search_dt.cv_results_[f\"split{x}_test_score\"][best_model_index]\n",
    "    dt_split_test_scores.append(val)"
   ]
  },
  {
   "cell_type": "code",
   "execution_count": 168,
   "id": "ee38cf54",
   "metadata": {},
   "outputs": [
    {
     "data": {
      "text/html": [
       "<div>\n",
       "<style scoped>\n",
       "    .dataframe tbody tr th:only-of-type {\n",
       "        vertical-align: middle;\n",
       "    }\n",
       "\n",
       "    .dataframe tbody tr th {\n",
       "        vertical-align: top;\n",
       "    }\n",
       "\n",
       "    .dataframe thead th {\n",
       "        text-align: right;\n",
       "    }\n",
       "</style>\n",
       "<table border=\"1\" class=\"dataframe\">\n",
       "  <thead>\n",
       "    <tr style=\"text-align: right;\">\n",
       "      <th></th>\n",
       "      <th>params</th>\n",
       "      <th>mean_train_score</th>\n",
       "      <th>mean_test_score</th>\n",
       "      <th>diff, %</th>\n",
       "    </tr>\n",
       "  </thead>\n",
       "  <tbody>\n",
       "    <tr>\n",
       "      <th>5</th>\n",
       "      <td>{'criterion': 'gini', 'max_depth': 50, 'max_features': None}</td>\n",
       "      <td>0.999970</td>\n",
       "      <td>0.363878</td>\n",
       "      <td>63.611094</td>\n",
       "    </tr>\n",
       "    <tr>\n",
       "      <th>8</th>\n",
       "      <td>{'criterion': 'gini', 'max_depth': 100, 'max_features': None}</td>\n",
       "      <td>0.999970</td>\n",
       "      <td>0.363878</td>\n",
       "      <td>63.611094</td>\n",
       "    </tr>\n",
       "    <tr>\n",
       "      <th>14</th>\n",
       "      <td>{'criterion': 'entropy', 'max_depth': 50, 'max_features': None}</td>\n",
       "      <td>0.999963</td>\n",
       "      <td>0.360550</td>\n",
       "      <td>63.943646</td>\n",
       "    </tr>\n",
       "    <tr>\n",
       "      <th>17</th>\n",
       "      <td>{'criterion': 'entropy', 'max_depth': 100, 'max_features': None}</td>\n",
       "      <td>0.999970</td>\n",
       "      <td>0.360288</td>\n",
       "      <td>63.970089</td>\n",
       "    </tr>\n",
       "    <tr>\n",
       "      <th>13</th>\n",
       "      <td>{'criterion': 'entropy', 'max_depth': 50, 'max_features': 'sqrt'}</td>\n",
       "      <td>0.999970</td>\n",
       "      <td>0.358504</td>\n",
       "      <td>64.148464</td>\n",
       "    </tr>\n",
       "    <tr>\n",
       "      <th>16</th>\n",
       "      <td>{'criterion': 'entropy', 'max_depth': 100, 'max_features': 'sqrt'}</td>\n",
       "      <td>0.999970</td>\n",
       "      <td>0.358504</td>\n",
       "      <td>64.148464</td>\n",
       "    </tr>\n",
       "    <tr>\n",
       "      <th>15</th>\n",
       "      <td>{'criterion': 'entropy', 'max_depth': 100, 'max_features': 'auto'}</td>\n",
       "      <td>0.999970</td>\n",
       "      <td>0.358504</td>\n",
       "      <td>64.148464</td>\n",
       "    </tr>\n",
       "    <tr>\n",
       "      <th>12</th>\n",
       "      <td>{'criterion': 'entropy', 'max_depth': 50, 'max_features': 'auto'}</td>\n",
       "      <td>0.999970</td>\n",
       "      <td>0.358504</td>\n",
       "      <td>64.148464</td>\n",
       "    </tr>\n",
       "    <tr>\n",
       "      <th>3</th>\n",
       "      <td>{'criterion': 'gini', 'max_depth': 50, 'max_features': 'auto'}</td>\n",
       "      <td>0.999970</td>\n",
       "      <td>0.353620</td>\n",
       "      <td>64.636961</td>\n",
       "    </tr>\n",
       "    <tr>\n",
       "      <th>4</th>\n",
       "      <td>{'criterion': 'gini', 'max_depth': 50, 'max_features': 'sqrt'}</td>\n",
       "      <td>0.999970</td>\n",
       "      <td>0.353620</td>\n",
       "      <td>64.636961</td>\n",
       "    </tr>\n",
       "    <tr>\n",
       "      <th>6</th>\n",
       "      <td>{'criterion': 'gini', 'max_depth': 100, 'max_features': 'auto'}</td>\n",
       "      <td>0.999970</td>\n",
       "      <td>0.353620</td>\n",
       "      <td>64.636961</td>\n",
       "    </tr>\n",
       "    <tr>\n",
       "      <th>7</th>\n",
       "      <td>{'criterion': 'gini', 'max_depth': 100, 'max_features': 'sqrt'}</td>\n",
       "      <td>0.999970</td>\n",
       "      <td>0.353620</td>\n",
       "      <td>64.636961</td>\n",
       "    </tr>\n",
       "    <tr>\n",
       "      <th>2</th>\n",
       "      <td>{'criterion': 'gini', 'max_depth': 10, 'max_features': None}</td>\n",
       "      <td>0.356918</td>\n",
       "      <td>0.321673</td>\n",
       "      <td>9.874841</td>\n",
       "    </tr>\n",
       "    <tr>\n",
       "      <th>0</th>\n",
       "      <td>{'criterion': 'gini', 'max_depth': 10, 'max_features': 'auto'}</td>\n",
       "      <td>0.351041</td>\n",
       "      <td>0.320381</td>\n",
       "      <td>8.733869</td>\n",
       "    </tr>\n",
       "    <tr>\n",
       "      <th>1</th>\n",
       "      <td>{'criterion': 'gini', 'max_depth': 10, 'max_features': 'sqrt'}</td>\n",
       "      <td>0.351041</td>\n",
       "      <td>0.320381</td>\n",
       "      <td>8.733869</td>\n",
       "    </tr>\n",
       "    <tr>\n",
       "      <th>10</th>\n",
       "      <td>{'criterion': 'entropy', 'max_depth': 10, 'max_features': 'sqrt'}</td>\n",
       "      <td>0.341825</td>\n",
       "      <td>0.311891</td>\n",
       "      <td>8.756977</td>\n",
       "    </tr>\n",
       "    <tr>\n",
       "      <th>9</th>\n",
       "      <td>{'criterion': 'entropy', 'max_depth': 10, 'max_features': 'auto'}</td>\n",
       "      <td>0.341825</td>\n",
       "      <td>0.311891</td>\n",
       "      <td>8.756977</td>\n",
       "    </tr>\n",
       "    <tr>\n",
       "      <th>11</th>\n",
       "      <td>{'criterion': 'entropy', 'max_depth': 10, 'max_features': None}</td>\n",
       "      <td>0.334563</td>\n",
       "      <td>0.303494</td>\n",
       "      <td>9.286572</td>\n",
       "    </tr>\n",
       "  </tbody>\n",
       "</table>\n",
       "</div>"
      ],
      "text/plain": [
       "                                                                params  \\\n",
       "5         {'criterion': 'gini', 'max_depth': 50, 'max_features': None}   \n",
       "8        {'criterion': 'gini', 'max_depth': 100, 'max_features': None}   \n",
       "14     {'criterion': 'entropy', 'max_depth': 50, 'max_features': None}   \n",
       "17    {'criterion': 'entropy', 'max_depth': 100, 'max_features': None}   \n",
       "13   {'criterion': 'entropy', 'max_depth': 50, 'max_features': 'sqrt'}   \n",
       "16  {'criterion': 'entropy', 'max_depth': 100, 'max_features': 'sqrt'}   \n",
       "15  {'criterion': 'entropy', 'max_depth': 100, 'max_features': 'auto'}   \n",
       "12   {'criterion': 'entropy', 'max_depth': 50, 'max_features': 'auto'}   \n",
       "3       {'criterion': 'gini', 'max_depth': 50, 'max_features': 'auto'}   \n",
       "4       {'criterion': 'gini', 'max_depth': 50, 'max_features': 'sqrt'}   \n",
       "6      {'criterion': 'gini', 'max_depth': 100, 'max_features': 'auto'}   \n",
       "7      {'criterion': 'gini', 'max_depth': 100, 'max_features': 'sqrt'}   \n",
       "2         {'criterion': 'gini', 'max_depth': 10, 'max_features': None}   \n",
       "0       {'criterion': 'gini', 'max_depth': 10, 'max_features': 'auto'}   \n",
       "1       {'criterion': 'gini', 'max_depth': 10, 'max_features': 'sqrt'}   \n",
       "10   {'criterion': 'entropy', 'max_depth': 10, 'max_features': 'sqrt'}   \n",
       "9    {'criterion': 'entropy', 'max_depth': 10, 'max_features': 'auto'}   \n",
       "11     {'criterion': 'entropy', 'max_depth': 10, 'max_features': None}   \n",
       "\n",
       "    mean_train_score  mean_test_score    diff, %  \n",
       "5           0.999970         0.363878  63.611094  \n",
       "8           0.999970         0.363878  63.611094  \n",
       "14          0.999963         0.360550  63.943646  \n",
       "17          0.999970         0.360288  63.970089  \n",
       "13          0.999970         0.358504  64.148464  \n",
       "16          0.999970         0.358504  64.148464  \n",
       "15          0.999970         0.358504  64.148464  \n",
       "12          0.999970         0.358504  64.148464  \n",
       "3           0.999970         0.353620  64.636961  \n",
       "4           0.999970         0.353620  64.636961  \n",
       "6           0.999970         0.353620  64.636961  \n",
       "7           0.999970         0.353620  64.636961  \n",
       "2           0.356918         0.321673   9.874841  \n",
       "0           0.351041         0.320381   8.733869  \n",
       "1           0.351041         0.320381   8.733869  \n",
       "10          0.341825         0.311891   8.756977  \n",
       "9           0.341825         0.311891   8.756977  \n",
       "11          0.334563         0.303494   9.286572  "
      ]
     },
     "execution_count": 168,
     "metadata": {},
     "output_type": "execute_result"
    }
   ],
   "source": [
    "cv_results = pd.DataFrame(grid_search_dt.cv_results_)[['params', 'mean_train_score', 'mean_test_score']]\n",
    "cv_results[\"diff, %\"] = 100*(cv_results[\"mean_train_score\"]-cv_results[\"mean_test_score\"]\n",
    "                                                     )/cv_results[\"mean_train_score\"]\n",
    "\n",
    "pd.set_option('display.max_colwidth', 100)\n",
    "cv_results.sort_values('mean_test_score', ascending=False)"
   ]
  },
  {
   "cell_type": "markdown",
   "id": "135b2289",
   "metadata": {},
   "source": [
    "We can see our decision tree model tends to overfit in our traning data, losing its ablilty to perform well on new unseen data set.It tend to overfit as the max_depth increases over 10. We can see the model is overfitting at max_depth= 50 and 100. Even though the best model is acheived at max_depth=50, the score is not better than logistic oversampling"
   ]
  },
  {
   "cell_type": "code",
   "execution_count": 169,
   "id": "21ec14a3",
   "metadata": {},
   "outputs": [
    {
     "data": {
      "text/plain": [
       "['models/dt.joblib']"
      ]
     },
     "execution_count": 169,
     "metadata": {},
     "output_type": "execute_result"
    }
   ],
   "source": [
    "#saving the model\n",
    "dump(grid_search_dt.best_estimator_, 'models/dt.joblib')"
   ]
  },
  {
   "cell_type": "markdown",
   "id": "d40fb725",
   "metadata": {},
   "source": [
    "## Decision Tree oversampling"
   ]
  },
  {
   "cell_type": "code",
   "execution_count": 126,
   "id": "bdd552b5",
   "metadata": {},
   "outputs": [
    {
     "data": {
      "text/plain": [
       "{'Fatal': 1312, 'Serious': 15329, 'Slight': 63476}"
      ]
     },
     "execution_count": 126,
     "metadata": {},
     "output_type": "execute_result"
    }
   ],
   "source": [
    "#checking initially number of records in each class\n",
    "unique, count= np.unique(ytrain,return_counts=True)\n",
    "ytrain_dict_value_count={k:v for (k,v) in zip(unique, count)}\n",
    "ytrain_dict_value_count"
   ]
  },
  {
   "cell_type": "code",
   "execution_count": 127,
   "id": "cf011e1b",
   "metadata": {},
   "outputs": [
    {
     "name": "stdout",
     "output_type": "stream",
     "text": [
      "Counter({'Slight': 63476, 'Serious': 63476, 'Fatal': 63476})\n"
     ]
    }
   ],
   "source": [
    "# oversampling strategy\n",
    "over = RandomOverSampler(sampling_strategy={'Slight':63476, 'Serious':63476, 'Fatal':63476})\n",
    "# fit and apply the transform\n",
    "Xtrain_osdt, ytrain_osdt = over.fit_resample(Xtrain, ytrain)\n",
    "#  check new class distribution\n",
    "print(Counter(ytrain_osdt))"
   ]
  },
  {
   "cell_type": "code",
   "execution_count": 151,
   "id": "29c2e805",
   "metadata": {},
   "outputs": [
    {
     "name": "stdout",
     "output_type": "stream",
     "text": [
      "Took 68.98468661308289 seconds\n"
     ]
    }
   ],
   "source": [
    "from sklearn.tree import DecisionTreeClassifier\n",
    "dt_os = DecisionTreeClassifier(random_state=7)\n",
    "criterion = ['gini',\"entropy\"]\n",
    "max_depth = [10,50,100]\n",
    "max_features=[\"auto\",\"sqrt\",None]\n",
    "# define grid search\n",
    "grid = dict(criterion=criterion,max_depth=max_depth,max_features=max_features)\n",
    "grid_search_dtos = GridSearchCV(estimator=dt_os, param_grid=grid, n_jobs=-1, cv=5, scoring='f1_macro',\n",
    "                              error_score=0,return_train_score=True)\n",
    "start = time.time()\n",
    "grid_search_dtos.fit(Xtrain_osdt, ytrain_osdt)\n",
    "#Fit the model \n",
    "\n",
    "end = time.time() - start\n",
    "print(f\"Took {end} seconds\")"
   ]
  },
  {
   "cell_type": "code",
   "execution_count": 152,
   "id": "dc972bdb",
   "metadata": {},
   "outputs": [
    {
     "data": {
      "text/plain": [
       "DecisionTreeClassifier(max_depth=50, max_features='auto', random_state=7)"
      ]
     },
     "execution_count": 152,
     "metadata": {},
     "output_type": "execute_result"
    }
   ],
   "source": [
    "grid_search_dtos.best_estimator_"
   ]
  },
  {
   "cell_type": "code",
   "execution_count": 153,
   "id": "bdd4c641",
   "metadata": {},
   "outputs": [
    {
     "data": {
      "text/plain": [
       "0.9190295049163915"
      ]
     },
     "execution_count": 153,
     "metadata": {},
     "output_type": "execute_result"
    }
   ],
   "source": [
    "grid_search_dtos.best_score_"
   ]
  },
  {
   "cell_type": "markdown",
   "id": "119b3feb",
   "metadata": {},
   "source": [
    "The best tuned model the grid search got is max_depth=50 and it achievd an F-score of **91.9%** which is a major improvement from the previous models we used so far, this is very encouraging"
   ]
  },
  {
   "cell_type": "code",
   "execution_count": 154,
   "id": "0793a8f7",
   "metadata": {},
   "outputs": [
    {
     "data": {
      "text/html": [
       "<div>\n",
       "<style scoped>\n",
       "    .dataframe tbody tr th:only-of-type {\n",
       "        vertical-align: middle;\n",
       "    }\n",
       "\n",
       "    .dataframe tbody tr th {\n",
       "        vertical-align: top;\n",
       "    }\n",
       "\n",
       "    .dataframe thead th {\n",
       "        text-align: right;\n",
       "    }\n",
       "</style>\n",
       "<table border=\"1\" class=\"dataframe\">\n",
       "  <thead>\n",
       "    <tr style=\"text-align: right;\">\n",
       "      <th></th>\n",
       "      <th>params</th>\n",
       "      <th>mean_train_score</th>\n",
       "      <th>mean_test_score</th>\n",
       "      <th>diff, %</th>\n",
       "    </tr>\n",
       "  </thead>\n",
       "  <tbody>\n",
       "    <tr>\n",
       "      <th>3</th>\n",
       "      <td>{'criterion': 'gini', 'max_depth': 50, 'max_features': 'auto'}</td>\n",
       "      <td>0.999984</td>\n",
       "      <td>0.919030</td>\n",
       "      <td>8.095602</td>\n",
       "    </tr>\n",
       "    <tr>\n",
       "      <th>4</th>\n",
       "      <td>{'criterion': 'gini', 'max_depth': 50, 'max_features': 'sqrt'}</td>\n",
       "      <td>0.999984</td>\n",
       "      <td>0.919030</td>\n",
       "      <td>8.095602</td>\n",
       "    </tr>\n",
       "    <tr>\n",
       "      <th>6</th>\n",
       "      <td>{'criterion': 'gini', 'max_depth': 100, 'max_features': 'auto'}</td>\n",
       "      <td>0.999984</td>\n",
       "      <td>0.919030</td>\n",
       "      <td>8.095602</td>\n",
       "    </tr>\n",
       "    <tr>\n",
       "      <th>7</th>\n",
       "      <td>{'criterion': 'gini', 'max_depth': 100, 'max_features': 'sqrt'}</td>\n",
       "      <td>0.999984</td>\n",
       "      <td>0.919030</td>\n",
       "      <td>8.095602</td>\n",
       "    </tr>\n",
       "    <tr>\n",
       "      <th>16</th>\n",
       "      <td>{'criterion': 'entropy', 'max_depth': 100, 'max_features': 'sqrt'}</td>\n",
       "      <td>0.999984</td>\n",
       "      <td>0.917181</td>\n",
       "      <td>8.280455</td>\n",
       "    </tr>\n",
       "    <tr>\n",
       "      <th>15</th>\n",
       "      <td>{'criterion': 'entropy', 'max_depth': 100, 'max_features': 'auto'}</td>\n",
       "      <td>0.999984</td>\n",
       "      <td>0.917181</td>\n",
       "      <td>8.280455</td>\n",
       "    </tr>\n",
       "    <tr>\n",
       "      <th>12</th>\n",
       "      <td>{'criterion': 'entropy', 'max_depth': 50, 'max_features': 'auto'}</td>\n",
       "      <td>0.999984</td>\n",
       "      <td>0.917181</td>\n",
       "      <td>8.280455</td>\n",
       "    </tr>\n",
       "    <tr>\n",
       "      <th>13</th>\n",
       "      <td>{'criterion': 'entropy', 'max_depth': 50, 'max_features': 'sqrt'}</td>\n",
       "      <td>0.999984</td>\n",
       "      <td>0.917181</td>\n",
       "      <td>8.280455</td>\n",
       "    </tr>\n",
       "    <tr>\n",
       "      <th>14</th>\n",
       "      <td>{'criterion': 'entropy', 'max_depth': 50, 'max_features': None}</td>\n",
       "      <td>0.999949</td>\n",
       "      <td>0.917176</td>\n",
       "      <td>8.277699</td>\n",
       "    </tr>\n",
       "    <tr>\n",
       "      <th>17</th>\n",
       "      <td>{'criterion': 'entropy', 'max_depth': 100, 'max_features': None}</td>\n",
       "      <td>0.999984</td>\n",
       "      <td>0.917141</td>\n",
       "      <td>8.284465</td>\n",
       "    </tr>\n",
       "    <tr>\n",
       "      <th>5</th>\n",
       "      <td>{'criterion': 'gini', 'max_depth': 50, 'max_features': None}</td>\n",
       "      <td>0.999984</td>\n",
       "      <td>0.916682</td>\n",
       "      <td>8.330366</td>\n",
       "    </tr>\n",
       "    <tr>\n",
       "      <th>8</th>\n",
       "      <td>{'criterion': 'gini', 'max_depth': 100, 'max_features': None}</td>\n",
       "      <td>0.999984</td>\n",
       "      <td>0.916682</td>\n",
       "      <td>8.330366</td>\n",
       "    </tr>\n",
       "    <tr>\n",
       "      <th>2</th>\n",
       "      <td>{'criterion': 'gini', 'max_depth': 10, 'max_features': None}</td>\n",
       "      <td>0.528815</td>\n",
       "      <td>0.521663</td>\n",
       "      <td>1.352489</td>\n",
       "    </tr>\n",
       "    <tr>\n",
       "      <th>11</th>\n",
       "      <td>{'criterion': 'entropy', 'max_depth': 10, 'max_features': None}</td>\n",
       "      <td>0.523997</td>\n",
       "      <td>0.518185</td>\n",
       "      <td>1.109142</td>\n",
       "    </tr>\n",
       "    <tr>\n",
       "      <th>0</th>\n",
       "      <td>{'criterion': 'gini', 'max_depth': 10, 'max_features': 'auto'}</td>\n",
       "      <td>0.512486</td>\n",
       "      <td>0.506767</td>\n",
       "      <td>1.115997</td>\n",
       "    </tr>\n",
       "    <tr>\n",
       "      <th>1</th>\n",
       "      <td>{'criterion': 'gini', 'max_depth': 10, 'max_features': 'sqrt'}</td>\n",
       "      <td>0.512486</td>\n",
       "      <td>0.506767</td>\n",
       "      <td>1.115997</td>\n",
       "    </tr>\n",
       "    <tr>\n",
       "      <th>10</th>\n",
       "      <td>{'criterion': 'entropy', 'max_depth': 10, 'max_features': 'sqrt'}</td>\n",
       "      <td>0.501628</td>\n",
       "      <td>0.493779</td>\n",
       "      <td>1.564826</td>\n",
       "    </tr>\n",
       "    <tr>\n",
       "      <th>9</th>\n",
       "      <td>{'criterion': 'entropy', 'max_depth': 10, 'max_features': 'auto'}</td>\n",
       "      <td>0.501628</td>\n",
       "      <td>0.493779</td>\n",
       "      <td>1.564826</td>\n",
       "    </tr>\n",
       "  </tbody>\n",
       "</table>\n",
       "</div>"
      ],
      "text/plain": [
       "                                                                params  \\\n",
       "3       {'criterion': 'gini', 'max_depth': 50, 'max_features': 'auto'}   \n",
       "4       {'criterion': 'gini', 'max_depth': 50, 'max_features': 'sqrt'}   \n",
       "6      {'criterion': 'gini', 'max_depth': 100, 'max_features': 'auto'}   \n",
       "7      {'criterion': 'gini', 'max_depth': 100, 'max_features': 'sqrt'}   \n",
       "16  {'criterion': 'entropy', 'max_depth': 100, 'max_features': 'sqrt'}   \n",
       "15  {'criterion': 'entropy', 'max_depth': 100, 'max_features': 'auto'}   \n",
       "12   {'criterion': 'entropy', 'max_depth': 50, 'max_features': 'auto'}   \n",
       "13   {'criterion': 'entropy', 'max_depth': 50, 'max_features': 'sqrt'}   \n",
       "14     {'criterion': 'entropy', 'max_depth': 50, 'max_features': None}   \n",
       "17    {'criterion': 'entropy', 'max_depth': 100, 'max_features': None}   \n",
       "5         {'criterion': 'gini', 'max_depth': 50, 'max_features': None}   \n",
       "8        {'criterion': 'gini', 'max_depth': 100, 'max_features': None}   \n",
       "2         {'criterion': 'gini', 'max_depth': 10, 'max_features': None}   \n",
       "11     {'criterion': 'entropy', 'max_depth': 10, 'max_features': None}   \n",
       "0       {'criterion': 'gini', 'max_depth': 10, 'max_features': 'auto'}   \n",
       "1       {'criterion': 'gini', 'max_depth': 10, 'max_features': 'sqrt'}   \n",
       "10   {'criterion': 'entropy', 'max_depth': 10, 'max_features': 'sqrt'}   \n",
       "9    {'criterion': 'entropy', 'max_depth': 10, 'max_features': 'auto'}   \n",
       "\n",
       "    mean_train_score  mean_test_score   diff, %  \n",
       "3           0.999984         0.919030  8.095602  \n",
       "4           0.999984         0.919030  8.095602  \n",
       "6           0.999984         0.919030  8.095602  \n",
       "7           0.999984         0.919030  8.095602  \n",
       "16          0.999984         0.917181  8.280455  \n",
       "15          0.999984         0.917181  8.280455  \n",
       "12          0.999984         0.917181  8.280455  \n",
       "13          0.999984         0.917181  8.280455  \n",
       "14          0.999949         0.917176  8.277699  \n",
       "17          0.999984         0.917141  8.284465  \n",
       "5           0.999984         0.916682  8.330366  \n",
       "8           0.999984         0.916682  8.330366  \n",
       "2           0.528815         0.521663  1.352489  \n",
       "11          0.523997         0.518185  1.109142  \n",
       "0           0.512486         0.506767  1.115997  \n",
       "1           0.512486         0.506767  1.115997  \n",
       "10          0.501628         0.493779  1.564826  \n",
       "9           0.501628         0.493779  1.564826  "
      ]
     },
     "execution_count": 154,
     "metadata": {},
     "output_type": "execute_result"
    }
   ],
   "source": [
    "cv_results = pd.DataFrame(grid_search_dtos.cv_results_)[['params', 'mean_train_score', 'mean_test_score']]\n",
    "cv_results[\"diff, %\"] = 100*(cv_results[\"mean_train_score\"]-cv_results[\"mean_test_score\"]\n",
    "                                                     )/cv_results[\"mean_train_score\"]\n",
    "\n",
    "pd.set_option('display.max_colwidth', 100)\n",
    "cv_results.sort_values('mean_test_score', ascending=False)"
   ]
  },
  {
   "cell_type": "markdown",
   "id": "aa629a9c",
   "metadata": {},
   "source": [
    "slight overfitting occured using oversampling method, however it much lower than the previous decision tree model while using a blancing method which is very encouraging, and it appears that oversampling methods are producing much better results than adding weights to our classes."
   ]
  },
  {
   "cell_type": "code",
   "execution_count": 155,
   "id": "4bd13288",
   "metadata": {},
   "outputs": [
    {
     "data": {
      "text/plain": [
       "['models/dtos.joblib']"
      ]
     },
     "execution_count": 155,
     "metadata": {},
     "output_type": "execute_result"
    }
   ],
   "source": [
    "#saving the model\n",
    "dump(grid_search_dtos.best_estimator_, 'models/dtos.joblib')"
   ]
  },
  {
   "cell_type": "markdown",
   "id": "4db87709",
   "metadata": {},
   "source": [
    "## XGBoost classifier"
   ]
  },
  {
   "cell_type": "markdown",
   "id": "1d0200c1",
   "metadata": {},
   "source": [
    "This is a new model that i have learned about it online, going to try it out and see if it gives good results"
   ]
  },
  {
   "cell_type": "code",
   "execution_count": 102,
   "id": "7d52d134",
   "metadata": {},
   "outputs": [
    {
     "name": "stderr",
     "output_type": "stream",
     "text": [
      "C:\\ProgramData\\Anaconda3\\lib\\site-packages\\xgboost\\sklearn.py:1224: UserWarning: The use of label encoder in XGBClassifier is deprecated and will be removed in a future release. To remove this warning, do the following: 1) Pass option use_label_encoder=False when constructing XGBClassifier object; and 2) Encode your labels (y) as integers starting with 0, i.e. 0, 1, 2, ..., [num_class - 1].\n",
      "  warnings.warn(label_encoder_deprecation_msg, UserWarning)\n"
     ]
    },
    {
     "name": "stdout",
     "output_type": "stream",
     "text": [
      "[21:14:29] WARNING: C:/Users/Administrator/workspace/xgboost-win64_release_1.5.1/src/learner.cc:576: \n",
      "Parameters: { \"loss\" } might not be used.\n",
      "\n",
      "  This could be a false alarm, with some parameters getting used by language bindings but\n",
      "  then being mistakenly passed down to XGBoost core, or some parameter actually being used\n",
      "  but getting flagged wrongly here. Please open an issue if you find any such cases.\n",
      "\n",
      "\n",
      "[21:14:29] WARNING: C:/Users/Administrator/workspace/xgboost-win64_release_1.5.1/src/learner.cc:1115: Starting in XGBoost 1.3.0, the default evaluation metric used with the objective 'multi:softprob' was changed from 'merror' to 'mlogloss'. Explicitly set eval_metric if you'd like to restore the old behavior.\n",
      "Took 1520.2628057003021 seconds\n"
     ]
    }
   ],
   "source": [
    "from xgboost import XGBClassifier\n",
    "# define models and parameter\n",
    "xgb = XGBClassifier(random_state=7)\n",
    "loss = ['deviance',\"exponential\"]\n",
    "n_estimators = [200,300]\n",
    "max_depth=[15,20]\n",
    "# define grid search\n",
    "grid = dict(loss=loss,n_estimators=n_estimators,max_depth=max_depth)\n",
    "grid_search_xgb = GridSearchCV(estimator=xgb, param_grid=grid, n_jobs=-1, cv=5, scoring='f1_macro',\n",
    "                              error_score=0,return_train_score=True)\n",
    "start = time.time()\n",
    "grid_search_xgb.fit(Xtrain, ytrain)\n",
    "#Fit the model \n",
    "\n",
    "end = time.time() - start\n",
    "print(f\"Took {end} seconds\")"
   ]
  },
  {
   "cell_type": "code",
   "execution_count": 103,
   "id": "c4edc862",
   "metadata": {},
   "outputs": [
    {
     "data": {
      "text/plain": [
       "XGBClassifier(base_score=0.5, booster='gbtree', colsample_bylevel=1,\n",
       "              colsample_bynode=1, colsample_bytree=1, enable_categorical=False,\n",
       "              gamma=0, gpu_id=-1, importance_type=None,\n",
       "              interaction_constraints='', learning_rate=0.300000012,\n",
       "              loss='deviance', max_delta_step=0, max_depth=15,\n",
       "              min_child_weight=1, missing=nan, monotone_constraints='()',\n",
       "              n_estimators=300, n_jobs=8, num_parallel_tree=1,\n",
       "              objective='multi:softprob', predictor='auto', random_state=7,\n",
       "              reg_alpha=0, reg_lambda=1, scale_pos_weight=None, subsample=1,\n",
       "              tree_method='exact', validate_parameters=1, verbosity=None)"
      ]
     },
     "execution_count": 103,
     "metadata": {},
     "output_type": "execute_result"
    }
   ],
   "source": [
    "grid_search_xgb.best_estimator_"
   ]
  },
  {
   "cell_type": "code",
   "execution_count": 104,
   "id": "5bfecadf",
   "metadata": {},
   "outputs": [
    {
     "data": {
      "text/plain": [
       "0.3660045343683682"
      ]
     },
     "execution_count": 104,
     "metadata": {},
     "output_type": "execute_result"
    }
   ],
   "source": [
    "grid_search_xgb.best_score_"
   ]
  },
  {
   "cell_type": "markdown",
   "id": "4de019e7",
   "metadata": {},
   "source": [
    "The best tuned model the grid search got is max_depth=15 and n_estimator=300.It achievd an F-score of **36.6%** which is much lower than what we have gotten in our previous models. Not going to hypertune anymore since its taking alot of computational power to run this model"
   ]
  },
  {
   "cell_type": "code",
   "execution_count": 105,
   "id": "71339269",
   "metadata": {},
   "outputs": [
    {
     "data": {
      "text/plain": [
       "1"
      ]
     },
     "execution_count": 105,
     "metadata": {},
     "output_type": "execute_result"
    }
   ],
   "source": [
    "best_model_index = grid_search_xgb.cv_results_[\"rank_test_score\"].tolist().index(1)\n",
    "best_model_index"
   ]
  },
  {
   "cell_type": "code",
   "execution_count": 106,
   "id": "fd0c0b68",
   "metadata": {},
   "outputs": [],
   "source": [
    "dt_split_test_scores = []\n",
    "for x in range(5):\n",
    "    # extract f-score of the best model (index='best_model_index') from each of the 5 splits\n",
    "    val = grid_search_xgb.cv_results_[f\"split{x}_test_score\"][best_model_index]\n",
    "    dt_split_test_scores.append(val)"
   ]
  },
  {
   "cell_type": "code",
   "execution_count": 107,
   "id": "f55ed70f",
   "metadata": {},
   "outputs": [
    {
     "data": {
      "text/html": [
       "<div>\n",
       "<style scoped>\n",
       "    .dataframe tbody tr th:only-of-type {\n",
       "        vertical-align: middle;\n",
       "    }\n",
       "\n",
       "    .dataframe tbody tr th {\n",
       "        vertical-align: top;\n",
       "    }\n",
       "\n",
       "    .dataframe thead th {\n",
       "        text-align: right;\n",
       "    }\n",
       "</style>\n",
       "<table border=\"1\" class=\"dataframe\">\n",
       "  <thead>\n",
       "    <tr style=\"text-align: right;\">\n",
       "      <th></th>\n",
       "      <th>params</th>\n",
       "      <th>mean_train_score</th>\n",
       "      <th>mean_test_score</th>\n",
       "      <th>diff, %</th>\n",
       "    </tr>\n",
       "  </thead>\n",
       "  <tbody>\n",
       "    <tr>\n",
       "      <th>1</th>\n",
       "      <td>{'loss': 'deviance', 'max_depth': 15, 'n_estimators': 300}</td>\n",
       "      <td>0.999716</td>\n",
       "      <td>0.366005</td>\n",
       "      <td>63.389163</td>\n",
       "    </tr>\n",
       "    <tr>\n",
       "      <th>5</th>\n",
       "      <td>{'loss': 'exponential', 'max_depth': 15, 'n_estimators': 300}</td>\n",
       "      <td>0.999716</td>\n",
       "      <td>0.366005</td>\n",
       "      <td>63.389163</td>\n",
       "    </tr>\n",
       "    <tr>\n",
       "      <th>3</th>\n",
       "      <td>{'loss': 'deviance', 'max_depth': 20, 'n_estimators': 300}</td>\n",
       "      <td>0.999970</td>\n",
       "      <td>0.363482</td>\n",
       "      <td>63.650706</td>\n",
       "    </tr>\n",
       "    <tr>\n",
       "      <th>7</th>\n",
       "      <td>{'loss': 'exponential', 'max_depth': 20, 'n_estimators': 300}</td>\n",
       "      <td>0.999970</td>\n",
       "      <td>0.363482</td>\n",
       "      <td>63.650706</td>\n",
       "    </tr>\n",
       "    <tr>\n",
       "      <th>0</th>\n",
       "      <td>{'loss': 'deviance', 'max_depth': 15, 'n_estimators': 200}</td>\n",
       "      <td>0.996662</td>\n",
       "      <td>0.361279</td>\n",
       "      <td>63.751085</td>\n",
       "    </tr>\n",
       "    <tr>\n",
       "      <th>4</th>\n",
       "      <td>{'loss': 'exponential', 'max_depth': 15, 'n_estimators': 200}</td>\n",
       "      <td>0.996662</td>\n",
       "      <td>0.361279</td>\n",
       "      <td>63.751085</td>\n",
       "    </tr>\n",
       "    <tr>\n",
       "      <th>2</th>\n",
       "      <td>{'loss': 'deviance', 'max_depth': 20, 'n_estimators': 200}</td>\n",
       "      <td>0.999966</td>\n",
       "      <td>0.360301</td>\n",
       "      <td>63.968668</td>\n",
       "    </tr>\n",
       "    <tr>\n",
       "      <th>6</th>\n",
       "      <td>{'loss': 'exponential', 'max_depth': 20, 'n_estimators': 200}</td>\n",
       "      <td>0.999966</td>\n",
       "      <td>0.360301</td>\n",
       "      <td>63.968668</td>\n",
       "    </tr>\n",
       "  </tbody>\n",
       "</table>\n",
       "</div>"
      ],
      "text/plain": [
       "                                                          params  \\\n",
       "1     {'loss': 'deviance', 'max_depth': 15, 'n_estimators': 300}   \n",
       "5  {'loss': 'exponential', 'max_depth': 15, 'n_estimators': 300}   \n",
       "3     {'loss': 'deviance', 'max_depth': 20, 'n_estimators': 300}   \n",
       "7  {'loss': 'exponential', 'max_depth': 20, 'n_estimators': 300}   \n",
       "0     {'loss': 'deviance', 'max_depth': 15, 'n_estimators': 200}   \n",
       "4  {'loss': 'exponential', 'max_depth': 15, 'n_estimators': 200}   \n",
       "2     {'loss': 'deviance', 'max_depth': 20, 'n_estimators': 200}   \n",
       "6  {'loss': 'exponential', 'max_depth': 20, 'n_estimators': 200}   \n",
       "\n",
       "   mean_train_score  mean_test_score    diff, %  \n",
       "1          0.999716         0.366005  63.389163  \n",
       "5          0.999716         0.366005  63.389163  \n",
       "3          0.999970         0.363482  63.650706  \n",
       "7          0.999970         0.363482  63.650706  \n",
       "0          0.996662         0.361279  63.751085  \n",
       "4          0.996662         0.361279  63.751085  \n",
       "2          0.999966         0.360301  63.968668  \n",
       "6          0.999966         0.360301  63.968668  "
      ]
     },
     "execution_count": 107,
     "metadata": {},
     "output_type": "execute_result"
    }
   ],
   "source": [
    "cv_results = pd.DataFrame(grid_search_xgb.cv_results_)[['params', 'mean_train_score', 'mean_test_score']]\n",
    "cv_results[\"diff, %\"] = 100*(cv_results[\"mean_train_score\"]-cv_results[\"mean_test_score\"]\n",
    "                                                     )/cv_results[\"mean_train_score\"]\n",
    "\n",
    "pd.set_option('display.max_colwidth', 100)\n",
    "cv_results.sort_values('mean_test_score', ascending=False)"
   ]
  },
  {
   "cell_type": "markdown",
   "id": "d63612f5",
   "metadata": {},
   "source": [
    "We can see the model is overfitting, therefore no need to tune our parameters since it will give out similar results."
   ]
  },
  {
   "cell_type": "code",
   "execution_count": 98,
   "id": "ba1ea171",
   "metadata": {},
   "outputs": [
    {
     "data": {
      "text/plain": [
       "['models/xgb.joblib']"
      ]
     },
     "execution_count": 98,
     "metadata": {},
     "output_type": "execute_result"
    }
   ],
   "source": [
    "#saving the model\n",
    "dump(grid_search_xgb.best_estimator_, 'models/xgb.joblib')"
   ]
  },
  {
   "cell_type": "markdown",
   "id": "f6d06236",
   "metadata": {},
   "source": [
    "## Random Forest Using weight balance"
   ]
  },
  {
   "cell_type": "markdown",
   "id": "d5f74ae8",
   "metadata": {},
   "source": [
    "Since in our first random forest model that we did for feature selection, our best tuned model that the grid search has achieved were the highest parameters we specified for max_depth=15 and n_estimators=200. Therefore, I will increase the parameters for this new random forest and see if it the grid search take higher parameters for higher results. "
   ]
  },
  {
   "cell_type": "code",
   "execution_count": 132,
   "id": "8152457c",
   "metadata": {},
   "outputs": [
    {
     "name": "stdout",
     "output_type": "stream",
     "text": [
      "Took 506.3693974018097 seconds\n"
     ]
    }
   ],
   "source": [
    "from sklearn.ensemble import RandomForestClassifier\n",
    "# define models and parameter and applying weights to our classes by assigning class_weight=\"balanced\"\n",
    "rf = RandomForestClassifier(random_state=7,class_weight=\"balanced\")\n",
    "\n",
    "# specify the hyperparameters and their values\n",
    "param_grid = {\n",
    "    'n_estimators': [200, 300],\n",
    "    'max_depth': [15,20],\n",
    "     'criterion': [\"gini\", \"entropy\"],\n",
    "    'min_samples_split': [5, 10]\n",
    "   \n",
    "}\n",
    "\n",
    "# we'll use 5-fold cross-validation\n",
    "grid_search_rf = GridSearchCV(rf, param_grid, cv=5, n_jobs=-1,\n",
    "                           scoring='f1_macro', \n",
    "                           return_train_score=True) \n",
    "\n",
    "start = time.time()\n",
    "grid_search_rf.fit(Xtrain, ytrain)\n",
    "end = time.time() - start\n",
    "print(f\"Took {end} seconds\")"
   ]
  },
  {
   "cell_type": "code",
   "execution_count": 133,
   "id": "5a938141",
   "metadata": {},
   "outputs": [
    {
     "data": {
      "text/plain": [
       "RandomForestClassifier(class_weight='balanced', criterion='entropy',\n",
       "                       max_depth=15, min_samples_split=10, n_estimators=200,\n",
       "                       random_state=7)"
      ]
     },
     "execution_count": 133,
     "metadata": {},
     "output_type": "execute_result"
    }
   ],
   "source": [
    "grid_search_rf.best_estimator_"
   ]
  },
  {
   "cell_type": "code",
   "execution_count": 134,
   "id": "5ae985d9",
   "metadata": {},
   "outputs": [
    {
     "data": {
      "text/plain": [
       "0.3901102013431216"
      ]
     },
     "execution_count": 134,
     "metadata": {},
     "output_type": "execute_result"
    }
   ],
   "source": [
    "grid_search_rf.best_score_"
   ]
  },
  {
   "cell_type": "markdown",
   "id": "d71c10a4",
   "metadata": {},
   "source": [
    "The best tuned model the grid search got is max_depth=15, criterion=entropy, and n_estimator=300.It achievd an F-score of **39%** which is better than the first random forest we ran for feature selection,nevertheless it procued way lower than our previous models. However, i will try to run a new model with higher n_estmator parameter and see if it scores higher."
   ]
  },
  {
   "cell_type": "code",
   "execution_count": 137,
   "id": "61683cac",
   "metadata": {},
   "outputs": [
    {
     "data": {
      "text/html": [
       "<div>\n",
       "<style scoped>\n",
       "    .dataframe tbody tr th:only-of-type {\n",
       "        vertical-align: middle;\n",
       "    }\n",
       "\n",
       "    .dataframe tbody tr th {\n",
       "        vertical-align: top;\n",
       "    }\n",
       "\n",
       "    .dataframe thead th {\n",
       "        text-align: right;\n",
       "    }\n",
       "</style>\n",
       "<table border=\"1\" class=\"dataframe\">\n",
       "  <thead>\n",
       "    <tr style=\"text-align: right;\">\n",
       "      <th></th>\n",
       "      <th>params</th>\n",
       "      <th>mean_train_score</th>\n",
       "      <th>mean_test_score</th>\n",
       "      <th>diff, %</th>\n",
       "    </tr>\n",
       "  </thead>\n",
       "  <tbody>\n",
       "    <tr>\n",
       "      <th>10</th>\n",
       "      <td>{'criterion': 'entropy', 'max_depth': 15, 'min_samples_split': 10, 'n_estimators': 200}</td>\n",
       "      <td>0.825728</td>\n",
       "      <td>0.390110</td>\n",
       "      <td>52.755619</td>\n",
       "    </tr>\n",
       "    <tr>\n",
       "      <th>11</th>\n",
       "      <td>{'criterion': 'entropy', 'max_depth': 15, 'min_samples_split': 10, 'n_estimators': 300}</td>\n",
       "      <td>0.825951</td>\n",
       "      <td>0.388896</td>\n",
       "      <td>52.915305</td>\n",
       "    </tr>\n",
       "    <tr>\n",
       "      <th>3</th>\n",
       "      <td>{'criterion': 'gini', 'max_depth': 15, 'min_samples_split': 10, 'n_estimators': 300}</td>\n",
       "      <td>0.841191</td>\n",
       "      <td>0.388392</td>\n",
       "      <td>53.828288</td>\n",
       "    </tr>\n",
       "    <tr>\n",
       "      <th>2</th>\n",
       "      <td>{'criterion': 'gini', 'max_depth': 15, 'min_samples_split': 10, 'n_estimators': 200}</td>\n",
       "      <td>0.840051</td>\n",
       "      <td>0.387886</td>\n",
       "      <td>53.825946</td>\n",
       "    </tr>\n",
       "    <tr>\n",
       "      <th>8</th>\n",
       "      <td>{'criterion': 'entropy', 'max_depth': 15, 'min_samples_split': 5, 'n_estimators': 200}</td>\n",
       "      <td>0.852424</td>\n",
       "      <td>0.379325</td>\n",
       "      <td>55.500430</td>\n",
       "    </tr>\n",
       "    <tr>\n",
       "      <th>9</th>\n",
       "      <td>{'criterion': 'entropy', 'max_depth': 15, 'min_samples_split': 5, 'n_estimators': 300}</td>\n",
       "      <td>0.855144</td>\n",
       "      <td>0.377904</td>\n",
       "      <td>55.808175</td>\n",
       "    </tr>\n",
       "    <tr>\n",
       "      <th>1</th>\n",
       "      <td>{'criterion': 'gini', 'max_depth': 15, 'min_samples_split': 5, 'n_estimators': 300}</td>\n",
       "      <td>0.872226</td>\n",
       "      <td>0.377551</td>\n",
       "      <td>56.714055</td>\n",
       "    </tr>\n",
       "    <tr>\n",
       "      <th>0</th>\n",
       "      <td>{'criterion': 'gini', 'max_depth': 15, 'min_samples_split': 5, 'n_estimators': 200}</td>\n",
       "      <td>0.870130</td>\n",
       "      <td>0.375997</td>\n",
       "      <td>56.788359</td>\n",
       "    </tr>\n",
       "    <tr>\n",
       "      <th>6</th>\n",
       "      <td>{'criterion': 'gini', 'max_depth': 20, 'min_samples_split': 10, 'n_estimators': 200}</td>\n",
       "      <td>0.958394</td>\n",
       "      <td>0.365742</td>\n",
       "      <td>61.837986</td>\n",
       "    </tr>\n",
       "    <tr>\n",
       "      <th>15</th>\n",
       "      <td>{'criterion': 'entropy', 'max_depth': 20, 'min_samples_split': 10, 'n_estimators': 300}</td>\n",
       "      <td>0.959366</td>\n",
       "      <td>0.365527</td>\n",
       "      <td>61.899161</td>\n",
       "    </tr>\n",
       "    <tr>\n",
       "      <th>7</th>\n",
       "      <td>{'criterion': 'gini', 'max_depth': 20, 'min_samples_split': 10, 'n_estimators': 300}</td>\n",
       "      <td>0.959322</td>\n",
       "      <td>0.364415</td>\n",
       "      <td>62.013255</td>\n",
       "    </tr>\n",
       "    <tr>\n",
       "      <th>14</th>\n",
       "      <td>{'criterion': 'entropy', 'max_depth': 20, 'min_samples_split': 10, 'n_estimators': 200}</td>\n",
       "      <td>0.957930</td>\n",
       "      <td>0.363983</td>\n",
       "      <td>62.003172</td>\n",
       "    </tr>\n",
       "    <tr>\n",
       "      <th>12</th>\n",
       "      <td>{'criterion': 'entropy', 'max_depth': 20, 'min_samples_split': 5, 'n_estimators': 200}</td>\n",
       "      <td>0.978607</td>\n",
       "      <td>0.346883</td>\n",
       "      <td>64.553422</td>\n",
       "    </tr>\n",
       "    <tr>\n",
       "      <th>13</th>\n",
       "      <td>{'criterion': 'entropy', 'max_depth': 20, 'min_samples_split': 5, 'n_estimators': 300}</td>\n",
       "      <td>0.979379</td>\n",
       "      <td>0.345214</td>\n",
       "      <td>64.751710</td>\n",
       "    </tr>\n",
       "    <tr>\n",
       "      <th>5</th>\n",
       "      <td>{'criterion': 'gini', 'max_depth': 20, 'min_samples_split': 5, 'n_estimators': 300}</td>\n",
       "      <td>0.980848</td>\n",
       "      <td>0.343850</td>\n",
       "      <td>64.943553</td>\n",
       "    </tr>\n",
       "    <tr>\n",
       "      <th>4</th>\n",
       "      <td>{'criterion': 'gini', 'max_depth': 20, 'min_samples_split': 5, 'n_estimators': 200}</td>\n",
       "      <td>0.980240</td>\n",
       "      <td>0.343571</td>\n",
       "      <td>64.950335</td>\n",
       "    </tr>\n",
       "  </tbody>\n",
       "</table>\n",
       "</div>"
      ],
      "text/plain": [
       "                                                                                     params  \\\n",
       "10  {'criterion': 'entropy', 'max_depth': 15, 'min_samples_split': 10, 'n_estimators': 200}   \n",
       "11  {'criterion': 'entropy', 'max_depth': 15, 'min_samples_split': 10, 'n_estimators': 300}   \n",
       "3      {'criterion': 'gini', 'max_depth': 15, 'min_samples_split': 10, 'n_estimators': 300}   \n",
       "2      {'criterion': 'gini', 'max_depth': 15, 'min_samples_split': 10, 'n_estimators': 200}   \n",
       "8    {'criterion': 'entropy', 'max_depth': 15, 'min_samples_split': 5, 'n_estimators': 200}   \n",
       "9    {'criterion': 'entropy', 'max_depth': 15, 'min_samples_split': 5, 'n_estimators': 300}   \n",
       "1       {'criterion': 'gini', 'max_depth': 15, 'min_samples_split': 5, 'n_estimators': 300}   \n",
       "0       {'criterion': 'gini', 'max_depth': 15, 'min_samples_split': 5, 'n_estimators': 200}   \n",
       "6      {'criterion': 'gini', 'max_depth': 20, 'min_samples_split': 10, 'n_estimators': 200}   \n",
       "15  {'criterion': 'entropy', 'max_depth': 20, 'min_samples_split': 10, 'n_estimators': 300}   \n",
       "7      {'criterion': 'gini', 'max_depth': 20, 'min_samples_split': 10, 'n_estimators': 300}   \n",
       "14  {'criterion': 'entropy', 'max_depth': 20, 'min_samples_split': 10, 'n_estimators': 200}   \n",
       "12   {'criterion': 'entropy', 'max_depth': 20, 'min_samples_split': 5, 'n_estimators': 200}   \n",
       "13   {'criterion': 'entropy', 'max_depth': 20, 'min_samples_split': 5, 'n_estimators': 300}   \n",
       "5       {'criterion': 'gini', 'max_depth': 20, 'min_samples_split': 5, 'n_estimators': 300}   \n",
       "4       {'criterion': 'gini', 'max_depth': 20, 'min_samples_split': 5, 'n_estimators': 200}   \n",
       "\n",
       "    mean_train_score  mean_test_score    diff, %  \n",
       "10          0.825728         0.390110  52.755619  \n",
       "11          0.825951         0.388896  52.915305  \n",
       "3           0.841191         0.388392  53.828288  \n",
       "2           0.840051         0.387886  53.825946  \n",
       "8           0.852424         0.379325  55.500430  \n",
       "9           0.855144         0.377904  55.808175  \n",
       "1           0.872226         0.377551  56.714055  \n",
       "0           0.870130         0.375997  56.788359  \n",
       "6           0.958394         0.365742  61.837986  \n",
       "15          0.959366         0.365527  61.899161  \n",
       "7           0.959322         0.364415  62.013255  \n",
       "14          0.957930         0.363983  62.003172  \n",
       "12          0.978607         0.346883  64.553422  \n",
       "13          0.979379         0.345214  64.751710  \n",
       "5           0.980848         0.343850  64.943553  \n",
       "4           0.980240         0.343571  64.950335  "
      ]
     },
     "execution_count": 137,
     "metadata": {},
     "output_type": "execute_result"
    }
   ],
   "source": [
    "cv_results = pd.DataFrame(grid_search_rf.cv_results_)[['params', 'mean_train_score', 'mean_test_score']]\n",
    "cv_results[\"diff, %\"] = 100*(cv_results[\"mean_train_score\"]-cv_results[\"mean_test_score\"]\n",
    "                                                     )/cv_results[\"mean_train_score\"]\n",
    "\n",
    "pd.set_option('display.max_colwidth', 100)\n",
    "cv_results.sort_values('mean_test_score', ascending=False)"
   ]
  },
  {
   "cell_type": "code",
   "execution_count": 138,
   "id": "ec8b61b6",
   "metadata": {},
   "outputs": [
    {
     "name": "stdout",
     "output_type": "stream",
     "text": [
      "latitude: 0.22943670901107488\n",
      "longitude: 0.22176630546640044\n",
      "engine_capacity_cc: 0.17546788558460014\n",
      "age_of_driver: 0.15793543002351476\n",
      "age_of_vehicle: 0.12093444659607928\n",
      "Urban area: 0.020686617585852503\n",
      "male: 0.019834029366147313\n",
      "others: 0.01859988514386048\n",
      "Saturday: 0.017769982090665954\n",
      "Thursday: 0.017568709131804264\n"
     ]
    }
   ],
   "source": [
    "# put them into a separate variable for convenience\n",
    "feature_importances = grid_search_rf.best_estimator_.feature_importances_\n",
    "\n",
    "# the order of the features in `feature_importances` is the same as in the Xtrain dataframe,\n",
    "# so we can \"zip\" the two and print in the descending order:\n",
    "\n",
    "for k, v in sorted(zip(feature_importances, Xtrain.columns), reverse=True):\n",
    "    print(f\"{v}: {k}\")"
   ]
  },
  {
   "cell_type": "markdown",
   "id": "ecf83d22",
   "metadata": {},
   "source": [
    "I will increase the parameter for n_estimator and see if it gives me a higher score"
   ]
  },
  {
   "cell_type": "code",
   "execution_count": 139,
   "id": "efa2a085",
   "metadata": {},
   "outputs": [
    {
     "name": "stdout",
     "output_type": "stream",
     "text": [
      "Took 728.5338225364685 seconds\n"
     ]
    }
   ],
   "source": [
    "rf2 = RandomForestClassifier(random_state=7,class_weight=\"balanced\")\n",
    "\n",
    "# specify the hyperparameters and their values\n",
    "param_grid = {\n",
    "    'n_estimators': [300, 400],\n",
    "    'max_depth': [15,20],\n",
    "     'criterion': [\"gini\", \"entropy\"],\n",
    "    'min_samples_split': [5, 10]\n",
    "   \n",
    "}\n",
    "\n",
    "# we'll use 5-fold cross-validation\n",
    "grid_search_rf2 = GridSearchCV(rf2, param_grid, cv=5, n_jobs=-1,\n",
    "                           scoring='f1_macro', \n",
    "                           return_train_score=True) \n",
    "\n",
    "start = time.time()\n",
    "grid_search_rf2.fit(Xtrain, ytrain)\n",
    "end = time.time() - start\n",
    "print(f\"Took {end} seconds\")"
   ]
  },
  {
   "cell_type": "code",
   "execution_count": 141,
   "id": "79765fae",
   "metadata": {},
   "outputs": [
    {
     "data": {
      "text/plain": [
       "RandomForestClassifier(class_weight='balanced', criterion='entropy',\n",
       "                       max_depth=15, min_samples_split=10, n_estimators=400,\n",
       "                       random_state=7)"
      ]
     },
     "execution_count": 141,
     "metadata": {},
     "output_type": "execute_result"
    }
   ],
   "source": [
    "grid_search_rf2.best_estimator_"
   ]
  },
  {
   "cell_type": "code",
   "execution_count": 142,
   "id": "cb13f46d",
   "metadata": {},
   "outputs": [
    {
     "data": {
      "text/plain": [
       "0.38941607398386713"
      ]
     },
     "execution_count": 142,
     "metadata": {},
     "output_type": "execute_result"
    }
   ],
   "source": [
    "grid_search_rf2.best_score_"
   ]
  },
  {
   "cell_type": "markdown",
   "id": "6a5f810c",
   "metadata": {},
   "source": [
    "The model took the same parameters as before but higher n_estimator as optimal ones for acheiving the best possible score.No improvement is shown while increasing the the parameters. Therefore we will stick with the first random forest model."
   ]
  },
  {
   "cell_type": "code",
   "execution_count": 143,
   "id": "3cc1a726",
   "metadata": {},
   "outputs": [
    {
     "data": {
      "text/html": [
       "<div>\n",
       "<style scoped>\n",
       "    .dataframe tbody tr th:only-of-type {\n",
       "        vertical-align: middle;\n",
       "    }\n",
       "\n",
       "    .dataframe tbody tr th {\n",
       "        vertical-align: top;\n",
       "    }\n",
       "\n",
       "    .dataframe thead th {\n",
       "        text-align: right;\n",
       "    }\n",
       "</style>\n",
       "<table border=\"1\" class=\"dataframe\">\n",
       "  <thead>\n",
       "    <tr style=\"text-align: right;\">\n",
       "      <th></th>\n",
       "      <th>params</th>\n",
       "      <th>mean_train_score</th>\n",
       "      <th>mean_test_score</th>\n",
       "      <th>diff, %</th>\n",
       "    </tr>\n",
       "  </thead>\n",
       "  <tbody>\n",
       "    <tr>\n",
       "      <th>11</th>\n",
       "      <td>{'criterion': 'entropy', 'max_depth': 15, 'min_samples_split': 10, 'n_estimators': 400}</td>\n",
       "      <td>0.828104</td>\n",
       "      <td>0.389416</td>\n",
       "      <td>52.974956</td>\n",
       "    </tr>\n",
       "    <tr>\n",
       "      <th>10</th>\n",
       "      <td>{'criterion': 'entropy', 'max_depth': 15, 'min_samples_split': 10, 'n_estimators': 300}</td>\n",
       "      <td>0.825951</td>\n",
       "      <td>0.388896</td>\n",
       "      <td>52.915305</td>\n",
       "    </tr>\n",
       "    <tr>\n",
       "      <th>3</th>\n",
       "      <td>{'criterion': 'gini', 'max_depth': 15, 'min_samples_split': 10, 'n_estimators': 400}</td>\n",
       "      <td>0.842938</td>\n",
       "      <td>0.388474</td>\n",
       "      <td>53.914223</td>\n",
       "    </tr>\n",
       "    <tr>\n",
       "      <th>2</th>\n",
       "      <td>{'criterion': 'gini', 'max_depth': 15, 'min_samples_split': 10, 'n_estimators': 300}</td>\n",
       "      <td>0.841191</td>\n",
       "      <td>0.388392</td>\n",
       "      <td>53.828288</td>\n",
       "    </tr>\n",
       "    <tr>\n",
       "      <th>9</th>\n",
       "      <td>{'criterion': 'entropy', 'max_depth': 15, 'min_samples_split': 5, 'n_estimators': 400}</td>\n",
       "      <td>0.856704</td>\n",
       "      <td>0.379070</td>\n",
       "      <td>55.752505</td>\n",
       "    </tr>\n",
       "    <tr>\n",
       "      <th>8</th>\n",
       "      <td>{'criterion': 'entropy', 'max_depth': 15, 'min_samples_split': 5, 'n_estimators': 300}</td>\n",
       "      <td>0.855144</td>\n",
       "      <td>0.377904</td>\n",
       "      <td>55.808175</td>\n",
       "    </tr>\n",
       "    <tr>\n",
       "      <th>0</th>\n",
       "      <td>{'criterion': 'gini', 'max_depth': 15, 'min_samples_split': 5, 'n_estimators': 300}</td>\n",
       "      <td>0.872226</td>\n",
       "      <td>0.377551</td>\n",
       "      <td>56.714055</td>\n",
       "    </tr>\n",
       "    <tr>\n",
       "      <th>1</th>\n",
       "      <td>{'criterion': 'gini', 'max_depth': 15, 'min_samples_split': 5, 'n_estimators': 400}</td>\n",
       "      <td>0.874561</td>\n",
       "      <td>0.376232</td>\n",
       "      <td>56.980435</td>\n",
       "    </tr>\n",
       "    <tr>\n",
       "      <th>7</th>\n",
       "      <td>{'criterion': 'gini', 'max_depth': 20, 'min_samples_split': 10, 'n_estimators': 400}</td>\n",
       "      <td>0.960011</td>\n",
       "      <td>0.366150</td>\n",
       "      <td>61.859772</td>\n",
       "    </tr>\n",
       "    <tr>\n",
       "      <th>14</th>\n",
       "      <td>{'criterion': 'entropy', 'max_depth': 20, 'min_samples_split': 10, 'n_estimators': 300}</td>\n",
       "      <td>0.959366</td>\n",
       "      <td>0.365527</td>\n",
       "      <td>61.899161</td>\n",
       "    </tr>\n",
       "    <tr>\n",
       "      <th>6</th>\n",
       "      <td>{'criterion': 'gini', 'max_depth': 20, 'min_samples_split': 10, 'n_estimators': 300}</td>\n",
       "      <td>0.959322</td>\n",
       "      <td>0.364415</td>\n",
       "      <td>62.013255</td>\n",
       "    </tr>\n",
       "    <tr>\n",
       "      <th>15</th>\n",
       "      <td>{'criterion': 'entropy', 'max_depth': 20, 'min_samples_split': 10, 'n_estimators': 400}</td>\n",
       "      <td>0.959906</td>\n",
       "      <td>0.364164</td>\n",
       "      <td>62.062510</td>\n",
       "    </tr>\n",
       "    <tr>\n",
       "      <th>12</th>\n",
       "      <td>{'criterion': 'entropy', 'max_depth': 20, 'min_samples_split': 5, 'n_estimators': 300}</td>\n",
       "      <td>0.979379</td>\n",
       "      <td>0.345214</td>\n",
       "      <td>64.751710</td>\n",
       "    </tr>\n",
       "    <tr>\n",
       "      <th>13</th>\n",
       "      <td>{'criterion': 'entropy', 'max_depth': 20, 'min_samples_split': 5, 'n_estimators': 400}</td>\n",
       "      <td>0.980179</td>\n",
       "      <td>0.343947</td>\n",
       "      <td>64.909778</td>\n",
       "    </tr>\n",
       "    <tr>\n",
       "      <th>4</th>\n",
       "      <td>{'criterion': 'gini', 'max_depth': 20, 'min_samples_split': 5, 'n_estimators': 300}</td>\n",
       "      <td>0.980848</td>\n",
       "      <td>0.343850</td>\n",
       "      <td>64.943553</td>\n",
       "    </tr>\n",
       "    <tr>\n",
       "      <th>5</th>\n",
       "      <td>{'criterion': 'gini', 'max_depth': 20, 'min_samples_split': 5, 'n_estimators': 400}</td>\n",
       "      <td>0.981176</td>\n",
       "      <td>0.342770</td>\n",
       "      <td>65.065426</td>\n",
       "    </tr>\n",
       "  </tbody>\n",
       "</table>\n",
       "</div>"
      ],
      "text/plain": [
       "                                                                                     params  \\\n",
       "11  {'criterion': 'entropy', 'max_depth': 15, 'min_samples_split': 10, 'n_estimators': 400}   \n",
       "10  {'criterion': 'entropy', 'max_depth': 15, 'min_samples_split': 10, 'n_estimators': 300}   \n",
       "3      {'criterion': 'gini', 'max_depth': 15, 'min_samples_split': 10, 'n_estimators': 400}   \n",
       "2      {'criterion': 'gini', 'max_depth': 15, 'min_samples_split': 10, 'n_estimators': 300}   \n",
       "9    {'criterion': 'entropy', 'max_depth': 15, 'min_samples_split': 5, 'n_estimators': 400}   \n",
       "8    {'criterion': 'entropy', 'max_depth': 15, 'min_samples_split': 5, 'n_estimators': 300}   \n",
       "0       {'criterion': 'gini', 'max_depth': 15, 'min_samples_split': 5, 'n_estimators': 300}   \n",
       "1       {'criterion': 'gini', 'max_depth': 15, 'min_samples_split': 5, 'n_estimators': 400}   \n",
       "7      {'criterion': 'gini', 'max_depth': 20, 'min_samples_split': 10, 'n_estimators': 400}   \n",
       "14  {'criterion': 'entropy', 'max_depth': 20, 'min_samples_split': 10, 'n_estimators': 300}   \n",
       "6      {'criterion': 'gini', 'max_depth': 20, 'min_samples_split': 10, 'n_estimators': 300}   \n",
       "15  {'criterion': 'entropy', 'max_depth': 20, 'min_samples_split': 10, 'n_estimators': 400}   \n",
       "12   {'criterion': 'entropy', 'max_depth': 20, 'min_samples_split': 5, 'n_estimators': 300}   \n",
       "13   {'criterion': 'entropy', 'max_depth': 20, 'min_samples_split': 5, 'n_estimators': 400}   \n",
       "4       {'criterion': 'gini', 'max_depth': 20, 'min_samples_split': 5, 'n_estimators': 300}   \n",
       "5       {'criterion': 'gini', 'max_depth': 20, 'min_samples_split': 5, 'n_estimators': 400}   \n",
       "\n",
       "    mean_train_score  mean_test_score    diff, %  \n",
       "11          0.828104         0.389416  52.974956  \n",
       "10          0.825951         0.388896  52.915305  \n",
       "3           0.842938         0.388474  53.914223  \n",
       "2           0.841191         0.388392  53.828288  \n",
       "9           0.856704         0.379070  55.752505  \n",
       "8           0.855144         0.377904  55.808175  \n",
       "0           0.872226         0.377551  56.714055  \n",
       "1           0.874561         0.376232  56.980435  \n",
       "7           0.960011         0.366150  61.859772  \n",
       "14          0.959366         0.365527  61.899161  \n",
       "6           0.959322         0.364415  62.013255  \n",
       "15          0.959906         0.364164  62.062510  \n",
       "12          0.979379         0.345214  64.751710  \n",
       "13          0.980179         0.343947  64.909778  \n",
       "4           0.980848         0.343850  64.943553  \n",
       "5           0.981176         0.342770  65.065426  "
      ]
     },
     "execution_count": 143,
     "metadata": {},
     "output_type": "execute_result"
    }
   ],
   "source": [
    "cv_results = pd.DataFrame(grid_search_rf2.cv_results_)[['params', 'mean_train_score', 'mean_test_score']]\n",
    "cv_results[\"diff, %\"] = 100*(cv_results[\"mean_train_score\"]-cv_results[\"mean_test_score\"]\n",
    "                                                     )/cv_results[\"mean_train_score\"]\n",
    "\n",
    "pd.set_option('display.max_colwidth', 100)\n",
    "cv_results.sort_values('mean_test_score', ascending=False)"
   ]
  },
  {
   "cell_type": "markdown",
   "id": "bce9a8c6",
   "metadata": {},
   "source": [
    "We can see how the model is overfitting. As we keep increasing the value of this parameter, test accuracy remains the\n",
    "same or gets worse, but the training accuracy keeps increasing. It means that our random forest tree model keeps learning about the training data better and better with an increase in max_depth and n_estimator but the performance on test data is not improving at all,therefore i will stick with the first one."
   ]
  },
  {
   "cell_type": "code",
   "execution_count": 170,
   "id": "8247973a",
   "metadata": {},
   "outputs": [
    {
     "data": {
      "text/plain": [
       "['models/rf.joblib']"
      ]
     },
     "execution_count": 170,
     "metadata": {},
     "output_type": "execute_result"
    }
   ],
   "source": [
    "#saving the previous best model    \n",
    "dump(grid_search_rf.best_estimator_, 'models/rf.joblib')"
   ]
  },
  {
   "cell_type": "markdown",
   "id": "12df501b",
   "metadata": {},
   "source": [
    "## Random Forest OverSampling"
   ]
  },
  {
   "cell_type": "code",
   "execution_count": 32,
   "id": "7274c46a",
   "metadata": {},
   "outputs": [
    {
     "data": {
      "text/plain": [
       "{'Fatal': 1312, 'Serious': 15329, 'Slight': 63476}"
      ]
     },
     "execution_count": 32,
     "metadata": {},
     "output_type": "execute_result"
    }
   ],
   "source": [
    "from collections import Counter\n",
    "from sklearn.datasets import make_classification\n",
    "from imblearn.over_sampling import RandomOverSampler\n",
    "#checking initially number of records in each class\n",
    "unique, count= np.unique(ytrain,return_counts=True)\n",
    "ytrain_dict_value_count={k:v for (k,v) in zip(unique, count)}\n",
    "ytrain_dict_value_count"
   ]
  },
  {
   "cell_type": "code",
   "execution_count": 33,
   "id": "0ab20549",
   "metadata": {},
   "outputs": [
    {
     "name": "stdout",
     "output_type": "stream",
     "text": [
      "Counter({'Slight': 63476, 'Serious': 63476, 'Fatal': 63476})\n"
     ]
    }
   ],
   "source": [
    "# define oversampling strategy\n",
    "over = RandomOverSampler(sampling_strategy={'Slight':63476, 'Serious':63476, 'Fatal':63476})\n",
    "# fit and apply the transform\n",
    "Xtrain_os, ytrain_os = over.fit_resample(Xtrain, ytrain)\n",
    "#  check new class distribution\n",
    "print(Counter(ytrain_os))\n"
   ]
  },
  {
   "cell_type": "code",
   "execution_count": 34,
   "id": "b34662b3",
   "metadata": {},
   "outputs": [
    {
     "name": "stdout",
     "output_type": "stream",
     "text": [
      "Took 1831.012992143631 seconds\n"
     ]
    }
   ],
   "source": [
    "from sklearn.ensemble import RandomForestClassifier\n",
    "\n",
    "rf_os = RandomForestClassifier(random_state=7)\n",
    "\n",
    "# specify the hyperparameters and their values\n",
    "param_grid = {\n",
    "    'n_estimators': [300,400],\n",
    "    'max_depth': [20,25],\n",
    "     'criterion': [\"gini\", \"entropy\"],\n",
    "    'min_samples_split': [5, 10]\n",
    "   \n",
    "}\n",
    "\n",
    "# we'll use 5-fold cross-validation\n",
    "grid_search_rf_os = GridSearchCV(rf_os, param_grid, cv=5, n_jobs=-1,\n",
    "                           scoring='f1_macro', \n",
    "                           return_train_score=True) \n",
    "\n",
    "start = time.time()\n",
    "grid_search_rf_os.fit(Xtrain_os, ytrain_os)\n",
    "end = time.time() - start\n",
    "print(f\"Took {end} seconds\")"
   ]
  },
  {
   "cell_type": "code",
   "execution_count": 35,
   "id": "ca5859a9",
   "metadata": {},
   "outputs": [
    {
     "data": {
      "text/plain": [
       "RandomForestClassifier(max_depth=25, min_samples_split=5, n_estimators=400,\n",
       "                       random_state=7)"
      ]
     },
     "execution_count": 35,
     "metadata": {},
     "output_type": "execute_result"
    }
   ],
   "source": [
    "grid_search_rf_os.best_estimator_"
   ]
  },
  {
   "cell_type": "code",
   "execution_count": 36,
   "id": "a8663fcc",
   "metadata": {},
   "outputs": [
    {
     "data": {
      "text/plain": [
       "0.9661213884969759"
      ]
     },
     "execution_count": 36,
     "metadata": {},
     "output_type": "execute_result"
    }
   ],
   "source": [
    "grid_search_rf_os.best_score_"
   ]
  },
  {
   "cell_type": "markdown",
   "id": "269bbed0",
   "metadata": {},
   "source": [
    "The best tuned model the grid search got is max_depth=25 and n_estimators=400.It achievd an F-score of **96.6%** which is the highest we got so far. Since its taking alot of computaional power and time to run the model i wont be tuning my parameters anymore for random forest. "
   ]
  },
  {
   "cell_type": "code",
   "execution_count": 69,
   "id": "14359e0d",
   "metadata": {},
   "outputs": [
    {
     "data": {
      "text/html": [
       "<div>\n",
       "<style scoped>\n",
       "    .dataframe tbody tr th:only-of-type {\n",
       "        vertical-align: middle;\n",
       "    }\n",
       "\n",
       "    .dataframe tbody tr th {\n",
       "        vertical-align: top;\n",
       "    }\n",
       "\n",
       "    .dataframe thead th {\n",
       "        text-align: right;\n",
       "    }\n",
       "</style>\n",
       "<table border=\"1\" class=\"dataframe\">\n",
       "  <thead>\n",
       "    <tr style=\"text-align: right;\">\n",
       "      <th></th>\n",
       "      <th>params</th>\n",
       "      <th>mean_train_score</th>\n",
       "      <th>mean_test_score</th>\n",
       "      <th>diff, %</th>\n",
       "    </tr>\n",
       "  </thead>\n",
       "  <tbody>\n",
       "    <tr>\n",
       "      <th>5</th>\n",
       "      <td>{'criterion': 'gini', 'max_depth': 25, 'min_samples_split': 5, 'n_estimators': 400}</td>\n",
       "      <td>0.998464</td>\n",
       "      <td>0.966121</td>\n",
       "      <td>3.239235</td>\n",
       "    </tr>\n",
       "    <tr>\n",
       "      <th>4</th>\n",
       "      <td>{'criterion': 'gini', 'max_depth': 25, 'min_samples_split': 5, 'n_estimators': 300}</td>\n",
       "      <td>0.998392</td>\n",
       "      <td>0.965568</td>\n",
       "      <td>3.287667</td>\n",
       "    </tr>\n",
       "    <tr>\n",
       "      <th>13</th>\n",
       "      <td>{'criterion': 'entropy', 'max_depth': 25, 'min_samples_split': 5, 'n_estimators': 400}</td>\n",
       "      <td>0.998535</td>\n",
       "      <td>0.964942</td>\n",
       "      <td>3.364221</td>\n",
       "    </tr>\n",
       "    <tr>\n",
       "      <th>12</th>\n",
       "      <td>{'criterion': 'entropy', 'max_depth': 25, 'min_samples_split': 5, 'n_estimators': 300}</td>\n",
       "      <td>0.998502</td>\n",
       "      <td>0.964853</td>\n",
       "      <td>3.369963</td>\n",
       "    </tr>\n",
       "    <tr>\n",
       "      <th>15</th>\n",
       "      <td>{'criterion': 'entropy', 'max_depth': 25, 'min_samples_split': 10, 'n_estimators': 400}</td>\n",
       "      <td>0.994634</td>\n",
       "      <td>0.950870</td>\n",
       "      <td>4.400069</td>\n",
       "    </tr>\n",
       "    <tr>\n",
       "      <th>7</th>\n",
       "      <td>{'criterion': 'gini', 'max_depth': 25, 'min_samples_split': 10, 'n_estimators': 400}</td>\n",
       "      <td>0.994072</td>\n",
       "      <td>0.950214</td>\n",
       "      <td>4.411998</td>\n",
       "    </tr>\n",
       "    <tr>\n",
       "      <th>14</th>\n",
       "      <td>{'criterion': 'entropy', 'max_depth': 25, 'min_samples_split': 10, 'n_estimators': 300}</td>\n",
       "      <td>0.994448</td>\n",
       "      <td>0.950123</td>\n",
       "      <td>4.457277</td>\n",
       "    </tr>\n",
       "    <tr>\n",
       "      <th>6</th>\n",
       "      <td>{'criterion': 'gini', 'max_depth': 25, 'min_samples_split': 10, 'n_estimators': 300}</td>\n",
       "      <td>0.993963</td>\n",
       "      <td>0.949939</td>\n",
       "      <td>4.429136</td>\n",
       "    </tr>\n",
       "    <tr>\n",
       "      <th>1</th>\n",
       "      <td>{'criterion': 'gini', 'max_depth': 20, 'min_samples_split': 5, 'n_estimators': 400}</td>\n",
       "      <td>0.986338</td>\n",
       "      <td>0.941917</td>\n",
       "      <td>4.503611</td>\n",
       "    </tr>\n",
       "    <tr>\n",
       "      <th>0</th>\n",
       "      <td>{'criterion': 'gini', 'max_depth': 20, 'min_samples_split': 5, 'n_estimators': 300}</td>\n",
       "      <td>0.986084</td>\n",
       "      <td>0.941690</td>\n",
       "      <td>4.502032</td>\n",
       "    </tr>\n",
       "    <tr>\n",
       "      <th>9</th>\n",
       "      <td>{'criterion': 'entropy', 'max_depth': 20, 'min_samples_split': 5, 'n_estimators': 400}</td>\n",
       "      <td>0.986446</td>\n",
       "      <td>0.940769</td>\n",
       "      <td>4.630434</td>\n",
       "    </tr>\n",
       "    <tr>\n",
       "      <th>8</th>\n",
       "      <td>{'criterion': 'entropy', 'max_depth': 20, 'min_samples_split': 5, 'n_estimators': 300}</td>\n",
       "      <td>0.986032</td>\n",
       "      <td>0.940174</td>\n",
       "      <td>4.650725</td>\n",
       "    </tr>\n",
       "    <tr>\n",
       "      <th>11</th>\n",
       "      <td>{'criterion': 'entropy', 'max_depth': 20, 'min_samples_split': 10, 'n_estimators': 400}</td>\n",
       "      <td>0.978705</td>\n",
       "      <td>0.926465</td>\n",
       "      <td>5.337654</td>\n",
       "    </tr>\n",
       "    <tr>\n",
       "      <th>10</th>\n",
       "      <td>{'criterion': 'entropy', 'max_depth': 20, 'min_samples_split': 10, 'n_estimators': 300}</td>\n",
       "      <td>0.978509</td>\n",
       "      <td>0.926052</td>\n",
       "      <td>5.360888</td>\n",
       "    </tr>\n",
       "    <tr>\n",
       "      <th>3</th>\n",
       "      <td>{'criterion': 'gini', 'max_depth': 20, 'min_samples_split': 10, 'n_estimators': 400}</td>\n",
       "      <td>0.977881</td>\n",
       "      <td>0.925930</td>\n",
       "      <td>5.312656</td>\n",
       "    </tr>\n",
       "    <tr>\n",
       "      <th>2</th>\n",
       "      <td>{'criterion': 'gini', 'max_depth': 20, 'min_samples_split': 10, 'n_estimators': 300}</td>\n",
       "      <td>0.977793</td>\n",
       "      <td>0.925840</td>\n",
       "      <td>5.313342</td>\n",
       "    </tr>\n",
       "  </tbody>\n",
       "</table>\n",
       "</div>"
      ],
      "text/plain": [
       "                                                                                     params  \\\n",
       "5       {'criterion': 'gini', 'max_depth': 25, 'min_samples_split': 5, 'n_estimators': 400}   \n",
       "4       {'criterion': 'gini', 'max_depth': 25, 'min_samples_split': 5, 'n_estimators': 300}   \n",
       "13   {'criterion': 'entropy', 'max_depth': 25, 'min_samples_split': 5, 'n_estimators': 400}   \n",
       "12   {'criterion': 'entropy', 'max_depth': 25, 'min_samples_split': 5, 'n_estimators': 300}   \n",
       "15  {'criterion': 'entropy', 'max_depth': 25, 'min_samples_split': 10, 'n_estimators': 400}   \n",
       "7      {'criterion': 'gini', 'max_depth': 25, 'min_samples_split': 10, 'n_estimators': 400}   \n",
       "14  {'criterion': 'entropy', 'max_depth': 25, 'min_samples_split': 10, 'n_estimators': 300}   \n",
       "6      {'criterion': 'gini', 'max_depth': 25, 'min_samples_split': 10, 'n_estimators': 300}   \n",
       "1       {'criterion': 'gini', 'max_depth': 20, 'min_samples_split': 5, 'n_estimators': 400}   \n",
       "0       {'criterion': 'gini', 'max_depth': 20, 'min_samples_split': 5, 'n_estimators': 300}   \n",
       "9    {'criterion': 'entropy', 'max_depth': 20, 'min_samples_split': 5, 'n_estimators': 400}   \n",
       "8    {'criterion': 'entropy', 'max_depth': 20, 'min_samples_split': 5, 'n_estimators': 300}   \n",
       "11  {'criterion': 'entropy', 'max_depth': 20, 'min_samples_split': 10, 'n_estimators': 400}   \n",
       "10  {'criterion': 'entropy', 'max_depth': 20, 'min_samples_split': 10, 'n_estimators': 300}   \n",
       "3      {'criterion': 'gini', 'max_depth': 20, 'min_samples_split': 10, 'n_estimators': 400}   \n",
       "2      {'criterion': 'gini', 'max_depth': 20, 'min_samples_split': 10, 'n_estimators': 300}   \n",
       "\n",
       "    mean_train_score  mean_test_score   diff, %  \n",
       "5           0.998464         0.966121  3.239235  \n",
       "4           0.998392         0.965568  3.287667  \n",
       "13          0.998535         0.964942  3.364221  \n",
       "12          0.998502         0.964853  3.369963  \n",
       "15          0.994634         0.950870  4.400069  \n",
       "7           0.994072         0.950214  4.411998  \n",
       "14          0.994448         0.950123  4.457277  \n",
       "6           0.993963         0.949939  4.429136  \n",
       "1           0.986338         0.941917  4.503611  \n",
       "0           0.986084         0.941690  4.502032  \n",
       "9           0.986446         0.940769  4.630434  \n",
       "8           0.986032         0.940174  4.650725  \n",
       "11          0.978705         0.926465  5.337654  \n",
       "10          0.978509         0.926052  5.360888  \n",
       "3           0.977881         0.925930  5.312656  \n",
       "2           0.977793         0.925840  5.313342  "
      ]
     },
     "execution_count": 69,
     "metadata": {},
     "output_type": "execute_result"
    }
   ],
   "source": [
    "cv_results = pd.DataFrame(grid_search_rf_os.cv_results_)[['params', 'mean_train_score', 'mean_test_score']]\n",
    "cv_results[\"diff, %\"] = 100*(cv_results[\"mean_train_score\"]-cv_results[\"mean_test_score\"]\n",
    "                                                     )/cv_results[\"mean_train_score\"]\n",
    "\n",
    "pd.set_option('display.max_colwidth', 100)\n",
    "cv_results.sort_values('mean_test_score', ascending=False)"
   ]
  },
  {
   "cell_type": "markdown",
   "id": "05a81fad",
   "metadata": {},
   "source": [
    "It can be see that no overfitting occured this time, the difference between the train and validation score are close to each other"
   ]
  },
  {
   "cell_type": "code",
   "execution_count": 70,
   "id": "4ce3c2fe",
   "metadata": {},
   "outputs": [
    {
     "data": {
      "text/plain": [
       "['models/rf_os.joblib']"
      ]
     },
     "execution_count": 70,
     "metadata": {},
     "output_type": "execute_result"
    }
   ],
   "source": [
    "#saving the previous best model    \n",
    "dump(grid_search_rf_os.best_estimator_, 'models/rf_os.joblib')"
   ]
  },
  {
   "cell_type": "markdown",
   "id": "1bfc548a",
   "metadata": {},
   "source": [
    "# Model Evaluation"
   ]
  },
  {
   "cell_type": "markdown",
   "id": "fe1e501c",
   "metadata": {},
   "source": [
    "After running and tuning the four models and getting the best possible scores, we will begin evaluating the models on unseen data and see how they perform."
   ]
  },
  {
   "cell_type": "code",
   "execution_count": 139,
   "id": "670f9dbc",
   "metadata": {},
   "outputs": [],
   "source": [
    "from sklearn.metrics import confusion_matrix,classification_report,f1_score, precision_score, recall_score\n",
    "from joblib import load\n",
    "# logestic regression\n",
    "best_lr = load(\"models/lr.joblib\")\n",
    "# Logistic regression oversampling\n",
    "best_lros = load(\"models/lros.joblib\")\n",
    "#decision tree\n",
    "best_dt = load(\"models/dt.joblib\")\n",
    "#decision tree oversampling\n",
    "best_dtos = load(\"models/dtos.joblib\")\n",
    "#random forest\n",
    "best_rf = load('models/rf.joblib')\n",
    "#random forest using oversampling\n",
    "best_rf_os = load('models/rf_os.joblib')\n",
    "# xgboost classifier\n",
    "best_xgb = load('models/xgb.joblib')"
   ]
  },
  {
   "cell_type": "markdown",
   "id": "1ee0cba5",
   "metadata": {},
   "source": [
    "## Logistic Regression Evaluation(assigning weight)"
   ]
  },
  {
   "cell_type": "code",
   "execution_count": 144,
   "id": "7ad04c4e",
   "metadata": {},
   "outputs": [
    {
     "name": "stdout",
     "output_type": "stream",
     "text": [
      "              precision    recall  f1-score   support\n",
      "\n",
      "       Fatal       0.03      0.51      0.05       310\n",
      "     Serious       0.23      0.19      0.21      3814\n",
      "      Slight       0.83      0.56      0.67     15982\n",
      "\n",
      "    accuracy                           0.49     20106\n",
      "   macro avg       0.36      0.42      0.31     20106\n",
      "weighted avg       0.70      0.49      0.57     20106\n",
      "\n"
     ]
    }
   ],
   "source": [
    "# macro-averaged precision, recall and f-score\n",
    "y_hat_lr = best_lr.predict(Xtest)\n",
    "print(classification_report(ytest,y_hat_lr))"
   ]
  },
  {
   "cell_type": "code",
   "execution_count": 66,
   "id": "8c5a84b7",
   "metadata": {},
   "outputs": [
    {
     "data": {
      "image/png": "[encoded data removed]",
      "text/plain": [
       "<Figure size 432x288 with 2 Axes>"
      ]
     },
     "metadata": {
      "needs_background": "light"
     },
     "output_type": "display_data"
    }
   ],
   "source": [
    "# 0:fatal, 1:serious, 2:slight\n",
    "matrix = confusion_matrix(ytest, y_hat_lr)\n",
    "plot = sns.heatmap(pd.DataFrame(matrix), annot=True, cmap=\"OrRd\" ,fmt='g')"
   ]
  },
  {
   "cell_type": "markdown",
   "id": "4c1310df",
   "metadata": {},
   "source": [
    "The logistic regression model achieved an F-score of **31%** on the testing set which is similar to the score we got on the training set. By looking at the confusion matrix and recall we can see that the model is retrieving low recall score for serious compared to fatal and slight."
   ]
  },
  {
   "cell_type": "markdown",
   "id": "d0bc7297",
   "metadata": {},
   "source": [
    "## Logistic Regression Oversampling Evaluation"
   ]
  },
  {
   "cell_type": "code",
   "execution_count": 145,
   "id": "9c46f77b",
   "metadata": {},
   "outputs": [
    {
     "name": "stdout",
     "output_type": "stream",
     "text": [
      "              precision    recall  f1-score   support\n",
      "\n",
      "       Fatal       0.03      0.51      0.05       310\n",
      "     Serious       0.23      0.19      0.21      3814\n",
      "      Slight       0.83      0.56      0.67     15982\n",
      "\n",
      "    accuracy                           0.49     20106\n",
      "   macro avg       0.36      0.42      0.31     20106\n",
      "weighted avg       0.70      0.49      0.57     20106\n",
      "\n"
     ]
    }
   ],
   "source": [
    "# macro-averaged precision, recall and f-score\n",
    "y_hat_lros = best_lros.predict(Xtest)\n",
    "print(classification_report(ytest,y_hat_lros))"
   ]
  },
  {
   "cell_type": "code",
   "execution_count": 142,
   "id": "58c289df",
   "metadata": {},
   "outputs": [
    {
     "data": {
      "image/png": "[encoded data removed]",
      "text/plain": [
       "<Figure size 432x288 with 2 Axes>"
      ]
     },
     "metadata": {
      "needs_background": "light"
     },
     "output_type": "display_data"
    }
   ],
   "source": [
    "# 0:fatal, 1:serious, 2:slight\n",
    "matrix = confusion_matrix(ytest, y_hat_lros)\n",
    "plot = sns.heatmap(pd.DataFrame(matrix), annot=True, cmap=\"OrRd\" ,fmt='g')"
   ]
  },
  {
   "cell_type": "markdown",
   "id": "1b0b5a9d",
   "metadata": {},
   "source": [
    " Using oversampling, it achieved an F-score of **31%** on the testing which is the exact same result as applying weights. It has'nt improved the results, even though it has achived a higher score on the training set with very low overfitting"
   ]
  },
  {
   "cell_type": "markdown",
   "id": "45e3e0b0",
   "metadata": {},
   "source": [
    "## Decision Tree Evaluation (Assigning weights)"
   ]
  },
  {
   "cell_type": "code",
   "execution_count": 25,
   "id": "1703f491",
   "metadata": {},
   "outputs": [
    {
     "name": "stdout",
     "output_type": "stream",
     "text": [
      "              precision    recall  f1-score   support\n",
      "\n",
      "       Fatal       0.07      0.07      0.07       310\n",
      "     Serious       0.24      0.25      0.25      3814\n",
      "      Slight       0.81      0.80      0.81     15982\n",
      "\n",
      "    accuracy                           0.69     20106\n",
      "   macro avg       0.37      0.37      0.37     20106\n",
      "weighted avg       0.69      0.69      0.69     20106\n",
      "\n"
     ]
    }
   ],
   "source": [
    "# macro-averaged precision, recall and f-score\n",
    "y_hat_dt = best_dt.predict(Xtest)\n",
    "print(classification_report(ytest,y_hat_dt))"
   ]
  },
  {
   "cell_type": "code",
   "execution_count": 65,
   "id": "8e0b7802",
   "metadata": {},
   "outputs": [
    {
     "data": {
      "image/png": "[encoded data removed]",
      "text/plain": [
       "<Figure size 432x288 with 2 Axes>"
      ]
     },
     "metadata": {
      "needs_background": "light"
     },
     "output_type": "display_data"
    }
   ],
   "source": [
    "# 0:fatal, 1:serious, 2:slight\n",
    "matrix = confusion_matrix(ytest, y_hat_dt)\n",
    "plot = sns.heatmap(pd.DataFrame(matrix), annot=True, cmap=\"OrRd\" ,fmt='g')"
   ]
  },
  {
   "cell_type": "markdown",
   "id": "aebcff68",
   "metadata": {},
   "source": [
    "The decision tree model achieved an F-score of **37%** on the testing set which is similar to the score we got on the training set as well and it had achieved a better score that logistic. By looking at the recall and confusion matrix, it can be seen that it achived a very low score in predicting correctly for fatal and serious."
   ]
  },
  {
   "cell_type": "markdown",
   "id": "f0bf0d96",
   "metadata": {},
   "source": [
    "## Decision Tree Oversampling Evaluation"
   ]
  },
  {
   "cell_type": "code",
   "execution_count": 143,
   "id": "398ff2d9",
   "metadata": {},
   "outputs": [
    {
     "name": "stdout",
     "output_type": "stream",
     "text": [
      "              precision    recall  f1-score   support\n",
      "\n",
      "       Fatal       0.04      0.05      0.04       310\n",
      "     Serious       0.21      0.20      0.21      3814\n",
      "      Slight       0.80      0.81      0.81     15982\n",
      "\n",
      "    accuracy                           0.68     20106\n",
      "   macro avg       0.35      0.35      0.35     20106\n",
      "weighted avg       0.68      0.68      0.68     20106\n",
      "\n"
     ]
    }
   ],
   "source": [
    "# macro-averaged precision, recall and f-score\n",
    "y_hat_dtos = best_dtos.predict(Xtest)\n",
    "print(classification_report(ytest,y_hat_dtos))"
   ]
  },
  {
   "cell_type": "code",
   "execution_count": 159,
   "id": "eee98eea",
   "metadata": {},
   "outputs": [
    {
     "data": {
      "image/png": "[encoded data removed]",
      "text/plain": [
       "<Figure size 432x288 with 2 Axes>"
      ]
     },
     "metadata": {
      "needs_background": "light"
     },
     "output_type": "display_data"
    }
   ],
   "source": [
    "# 0:fatal, 1:serious, 2:slight\n",
    "matrix = confusion_matrix(ytest, y_hat_dtos)\n",
    "plot = sns.heatmap(pd.DataFrame(matrix), annot=True, cmap=\"OrRd\" ,fmt='g')"
   ]
  },
  {
   "cell_type": "markdown",
   "id": "c325d928",
   "metadata": {},
   "source": [
    "Unfortunately, with ooversampling the model achieved very similar results to previous balancing method. This was very unexpected since it has achieved a very high score of 91.2% in the training set with moderate overfitting compared to the balancing approach."
   ]
  },
  {
   "cell_type": "markdown",
   "id": "8b5f3f35",
   "metadata": {},
   "source": [
    "## XGBoost Evaluation"
   ]
  },
  {
   "cell_type": "code",
   "execution_count": 110,
   "id": "f5ad44f4",
   "metadata": {},
   "outputs": [
    {
     "name": "stdout",
     "output_type": "stream",
     "text": [
      "              precision    recall  f1-score   support\n",
      "\n",
      "       Fatal       0.44      0.01      0.03       310\n",
      "     Serious       0.45      0.10      0.17      3814\n",
      "      Slight       0.81      0.97      0.88     15982\n",
      "\n",
      "    accuracy                           0.79     20106\n",
      "   macro avg       0.57      0.36      0.36     20106\n",
      "weighted avg       0.73      0.79      0.73     20106\n",
      "\n"
     ]
    }
   ],
   "source": [
    "# macro-averaged precision, recall and f-score\n",
    "y_hat_xgb = best_xgb.predict(Xtest)\n",
    "print(classification_report(ytest,y_hat_xgb))"
   ]
  },
  {
   "cell_type": "code",
   "execution_count": 111,
   "id": "d5a8a1b7",
   "metadata": {},
   "outputs": [
    {
     "data": {
      "image/png": "[encoded data removed]",
      "text/plain": [
       "<Figure size 432x288 with 2 Axes>"
      ]
     },
     "metadata": {
      "needs_background": "light"
     },
     "output_type": "display_data"
    }
   ],
   "source": [
    "# 0:fatal, 1:serious, 2:slight\n",
    "matrix = confusion_matrix(ytest, y_hat_xgb)\n",
    "plot = sns.heatmap(pd.DataFrame(matrix), annot=True, cmap=\"OrRd\" ,fmt='g')"
   ]
  },
  {
   "cell_type": "markdown",
   "id": "ffba775d",
   "metadata": {},
   "source": [
    "XGBoost model achieved an F-score of **36%** on the testing set which is similar to the score we got on the training set as well.By looking at the confusion matrix and recall we can see that the model is retrieving the lowest recall values so far for fatal and serious, which are important classes to predict for our business objective"
   ]
  },
  {
   "cell_type": "markdown",
   "id": "101c6abe",
   "metadata": {},
   "source": [
    "## Random Forest Evaluation (Assigning weights)"
   ]
  },
  {
   "cell_type": "code",
   "execution_count": 27,
   "id": "2594deac",
   "metadata": {},
   "outputs": [
    {
     "name": "stdout",
     "output_type": "stream",
     "text": [
      "              precision    recall  f1-score   support\n",
      "\n",
      "       Fatal       0.06      0.05      0.05       310\n",
      "     Serious       0.31      0.26      0.28      3814\n",
      "      Slight       0.82      0.85      0.84     15982\n",
      "\n",
      "    accuracy                           0.73     20106\n",
      "   macro avg       0.40      0.39      0.39     20106\n",
      "weighted avg       0.71      0.73      0.72     20106\n",
      "\n"
     ]
    }
   ],
   "source": [
    "# macro-averaged precision, recall and f-score\n",
    "y_hat_rf = best_rf.predict(Xtest)\n",
    "print(classification_report(ytest,y_hat_rf))"
   ]
  },
  {
   "cell_type": "code",
   "execution_count": 67,
   "id": "dec9b42a",
   "metadata": {},
   "outputs": [
    {
     "data": {
      "image/png": "[encoded data removed]",
      "text/plain": [
       "<Figure size 432x288 with 2 Axes>"
      ]
     },
     "metadata": {
      "needs_background": "light"
     },
     "output_type": "display_data"
    }
   ],
   "source": [
    "# 0:fatal, 1:serious, 2:slight\n",
    "matrix = confusion_matrix(ytest, y_hat_rf)\n",
    "plot = sns.heatmap(pd.DataFrame(matrix), annot=True, cmap=\"OrRd\" ,fmt='g')"
   ]
  },
  {
   "cell_type": "markdown",
   "id": "e9ffe2c4",
   "metadata": {},
   "source": [
    "The random forest model achieved an F-score of **39%** on the testing set which is similar to the score we got on the training set as well.This is the highest score recieved so far out of the models. However it produced so far the lowest recall score for fatal."
   ]
  },
  {
   "cell_type": "markdown",
   "id": "ac8803e3",
   "metadata": {},
   "source": [
    "## Random Forest Evaluation (OverSampling)"
   ]
  },
  {
   "cell_type": "code",
   "execution_count": 74,
   "id": "9b7f1014",
   "metadata": {},
   "outputs": [
    {
     "name": "stdout",
     "output_type": "stream",
     "text": [
      "              precision    recall  f1-score   support\n",
      "\n",
      "       Fatal       0.25      0.01      0.02       310\n",
      "     Serious       0.35      0.12      0.18      3814\n",
      "      Slight       0.81      0.95      0.87     15982\n",
      "\n",
      "    accuracy                           0.78     20106\n",
      "   macro avg       0.47      0.36      0.36     20106\n",
      "weighted avg       0.71      0.78      0.73     20106\n",
      "\n"
     ]
    }
   ],
   "source": [
    "# macro-averaged precision, recall and f-score\n",
    "y_hat_rf_os = best_rf_os.predict(Xtest)\n",
    "print(classification_report(ytest,y_hat_rf_os))"
   ]
  },
  {
   "cell_type": "code",
   "execution_count": 75,
   "id": "9d1a352f",
   "metadata": {},
   "outputs": [
    {
     "data": {
      "image/png": "[encoded data removed]",
      "text/plain": [
       "<Figure size 432x288 with 2 Axes>"
      ]
     },
     "metadata": {
      "needs_background": "light"
     },
     "output_type": "display_data"
    }
   ],
   "source": [
    "# 0:fatal, 1:serious, 2:slight\n",
    "matrix = confusion_matrix(ytest, y_hat_rf_os)\n",
    "plot = sns.heatmap(pd.DataFrame(matrix), annot=True, cmap=\"OrRd\" ,fmt='g')"
   ]
  },
  {
   "cell_type": "markdown",
   "id": "2db15a86",
   "metadata": {},
   "source": [
    "The random forest model using oversampling achieved and F-score of **36%** on the testing set which is considerably lower than the score it achieved on the training set. It also achieved a bit worse than the previous random forset using weights methods. Moreover by looking at confusion matrix/ recall score we can see it achieved a very low score for fatal and serious, which are important classes for our business problem to have high score in them "
   ]
  },
  {
   "cell_type": "markdown",
   "id": "f4217e64",
   "metadata": {},
   "source": [
    "# Conclusion"
   ]
  },
  {
   "cell_type": "markdown",
   "id": "02157e82",
   "metadata": {},
   "source": [
    "All our models acieved very smiliar results and they all performed better than our baseline, random forest using weighted balanced method achieved the highest out of all however it has achieved a lower recall score for fatal and serious. \n",
    "Since our problem objective is to be able to give the right insurance package for people in order for the insurance company to generate better revenue and save money, we would be more interested in achiveing a better recall values. Therefore, if i had to choose the best model to deploy for the company i would go for multinomial logistic regression, since it had produced the best recall score for serious and fatal, since these two are critical in prediciting correctly since it would cost the insurance company the most in terms of money if they deployed the wrong/cheaper package to customers."
   ]
  },
  {
   "cell_type": "markdown",
   "id": "2fa2fab2",
   "metadata": {},
   "source": [
    "# Possible Future Improvments"
   ]
  },
  {
   "cell_type": "markdown",
   "id": "9bd98ef8",
   "metadata": {},
   "source": [
    "* Since we had an unbalanced data, it would be a good idea to instances for our minority classes such as fatal and serious.\n",
    "* Having machines with higher computational power would have allowed us to try out different models that requires huge computational power.\n",
    "* Having more parameters related to potenital accident severity could help our models understand the relationships better and predict more accurately\n",
    "* Come up with more possible feature engineering to create a stronger associations with the traget.\n",
    "* Treating outlier could have improved the model in understand the predictors better.\n",
    "\n"
   ]
  },
  {
   "cell_type": "code",
   "execution_count": null,
   "id": "32b6c7fc",
   "metadata": {},
   "outputs": [],
   "source": []
  }
 ],
 "metadata": {
  "kernelspec": {
   "display_name": "Python 3 (ipykernel)",
   "language": "python",
   "name": "python3"
  },
  "language_info": {
   "codemirror_mode": {
    "name": "ipython",
    "version": 3
   },
   "file_extension": ".py",
   "mimetype": "text/x-python",
   "name": "python",
   "nbconvert_exporter": "python",
   "pygments_lexer": "ipython3",
   "version": "3.9.7"
  }
 },
 "nbformat": 4,
 "nbformat_minor": 5
}
